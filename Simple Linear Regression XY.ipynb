{
 "cells": [
  {
   "cell_type": "code",
   "execution_count": 161,
   "metadata": {},
   "outputs": [],
   "source": [
    "import os\n",
    "import numpy as np\n",
    "import pandas as pd\n",
    "import matplotlib.pyplot as plt\n",
    "import seaborn as sns\n",
    "from sklearn.model_selection import train_test_split\n",
    "from sklearn.linear_model import LinearRegression\n",
    "from sklearn.metrics import r2_score"
   ]
  },
  {
   "cell_type": "code",
   "execution_count": 162,
   "metadata": {},
   "outputs": [
    {
     "data": {
      "text/html": [
       "<div>\n",
       "<style scoped>\n",
       "    .dataframe tbody tr th:only-of-type {\n",
       "        vertical-align: middle;\n",
       "    }\n",
       "\n",
       "    .dataframe tbody tr th {\n",
       "        vertical-align: top;\n",
       "    }\n",
       "\n",
       "    .dataframe thead th {\n",
       "        text-align: right;\n",
       "    }\n",
       "</style>\n",
       "<table border=\"1\" class=\"dataframe\">\n",
       "  <thead>\n",
       "    <tr style=\"text-align: right;\">\n",
       "      <th></th>\n",
       "      <th>cgpa</th>\n",
       "      <th>package</th>\n",
       "    </tr>\n",
       "  </thead>\n",
       "  <tbody>\n",
       "    <tr>\n",
       "      <th>0</th>\n",
       "      <td>6.89</td>\n",
       "      <td>3.26</td>\n",
       "    </tr>\n",
       "    <tr>\n",
       "      <th>1</th>\n",
       "      <td>5.12</td>\n",
       "      <td>1.98</td>\n",
       "    </tr>\n",
       "    <tr>\n",
       "      <th>2</th>\n",
       "      <td>7.82</td>\n",
       "      <td>3.25</td>\n",
       "    </tr>\n",
       "    <tr>\n",
       "      <th>3</th>\n",
       "      <td>7.42</td>\n",
       "      <td>3.67</td>\n",
       "    </tr>\n",
       "    <tr>\n",
       "      <th>4</th>\n",
       "      <td>6.94</td>\n",
       "      <td>3.57</td>\n",
       "    </tr>\n",
       "  </tbody>\n",
       "</table>\n",
       "</div>"
      ],
      "text/plain": [
       "   cgpa  package\n",
       "0  6.89     3.26\n",
       "1  5.12     1.98\n",
       "2  7.82     3.25\n",
       "3  7.42     3.67\n",
       "4  6.94     3.57"
      ]
     },
     "execution_count": 162,
     "metadata": {},
     "output_type": "execute_result"
    }
   ],
   "source": [
    "df = pd.read_csv('placement.csv')\n",
    "df.head()"
   ]
  },
  {
   "cell_type": "code",
   "execution_count": 163,
   "metadata": {},
   "outputs": [
    {
     "data": {
      "image/png": "[encoded data removed]",
      "text/plain": [
       "<Figure size 432x288 with 1 Axes>"
      ]
     },
     "metadata": {
      "needs_background": "light"
     },
     "output_type": "display_data"
    }
   ],
   "source": [
    "plt.scatter(x = df['cgpa'] , y = df['package'])\n",
    "plt.xlabel('CGPA Score')\n",
    "plt.ylabel('Package Per Annum')\n",
    "plt.show()"
   ]
  },
  {
   "cell_type": "code",
   "execution_count": 164,
   "metadata": {},
   "outputs": [
    {
     "name": "stdout",
     "output_type": "stream",
     "text": [
      "cgpa       0\n",
      "package    0\n",
      "dtype: int64\n"
     ]
    }
   ],
   "source": [
    "print(df.isnull().sum())"
   ]
  },
  {
   "cell_type": "code",
   "execution_count": 165,
   "metadata": {},
   "outputs": [
    {
     "name": "stdout",
     "output_type": "stream",
     "text": [
      "<class 'pandas.core.frame.DataFrame'>\n",
      "RangeIndex: 200 entries, 0 to 199\n",
      "Data columns (total 2 columns):\n",
      " #   Column   Non-Null Count  Dtype  \n",
      "---  ------   --------------  -----  \n",
      " 0   cgpa     200 non-null    float64\n",
      " 1   package  200 non-null    float64\n",
      "dtypes: float64(2)\n",
      "memory usage: 3.2 KB\n"
     ]
    }
   ],
   "source": [
    "df.info()"
   ]
  },
  {
   "cell_type": "code",
   "execution_count": 166,
   "metadata": {},
   "outputs": [
    {
     "data": {
      "text/html": [
       "<div>\n",
       "<style scoped>\n",
       "    .dataframe tbody tr th:only-of-type {\n",
       "        vertical-align: middle;\n",
       "    }\n",
       "\n",
       "    .dataframe tbody tr th {\n",
       "        vertical-align: top;\n",
       "    }\n",
       "\n",
       "    .dataframe thead th {\n",
       "        text-align: right;\n",
       "    }\n",
       "</style>\n",
       "<table border=\"1\" class=\"dataframe\">\n",
       "  <thead>\n",
       "    <tr style=\"text-align: right;\">\n",
       "      <th></th>\n",
       "      <th>cgpa</th>\n",
       "      <th>package</th>\n",
       "    </tr>\n",
       "  </thead>\n",
       "  <tbody>\n",
       "    <tr>\n",
       "      <th>count</th>\n",
       "      <td>200.000000</td>\n",
       "      <td>200.000000</td>\n",
       "    </tr>\n",
       "    <tr>\n",
       "      <th>mean</th>\n",
       "      <td>6.990500</td>\n",
       "      <td>2.996050</td>\n",
       "    </tr>\n",
       "    <tr>\n",
       "      <th>std</th>\n",
       "      <td>1.069409</td>\n",
       "      <td>0.691644</td>\n",
       "    </tr>\n",
       "    <tr>\n",
       "      <th>min</th>\n",
       "      <td>4.260000</td>\n",
       "      <td>1.370000</td>\n",
       "    </tr>\n",
       "    <tr>\n",
       "      <th>25%</th>\n",
       "      <td>6.190000</td>\n",
       "      <td>2.487500</td>\n",
       "    </tr>\n",
       "    <tr>\n",
       "      <th>50%</th>\n",
       "      <td>6.965000</td>\n",
       "      <td>2.995000</td>\n",
       "    </tr>\n",
       "    <tr>\n",
       "      <th>75%</th>\n",
       "      <td>7.737500</td>\n",
       "      <td>3.492500</td>\n",
       "    </tr>\n",
       "    <tr>\n",
       "      <th>max</th>\n",
       "      <td>9.580000</td>\n",
       "      <td>4.620000</td>\n",
       "    </tr>\n",
       "  </tbody>\n",
       "</table>\n",
       "</div>"
      ],
      "text/plain": [
       "             cgpa     package\n",
       "count  200.000000  200.000000\n",
       "mean     6.990500    2.996050\n",
       "std      1.069409    0.691644\n",
       "min      4.260000    1.370000\n",
       "25%      6.190000    2.487500\n",
       "50%      6.965000    2.995000\n",
       "75%      7.737500    3.492500\n",
       "max      9.580000    4.620000"
      ]
     },
     "execution_count": 166,
     "metadata": {},
     "output_type": "execute_result"
    }
   ],
   "source": [
    "df.describe()"
   ]
  },
  {
   "cell_type": "markdown",
   "metadata": {},
   "source": [
    "### No preprocessing required in this simple linear regression dataset"
   ]
  },
  {
   "cell_type": "code",
   "execution_count": 167,
   "metadata": {},
   "outputs": [],
   "source": [
    "# Split the data into independent variable and dependent variable\n",
    "\n",
    "x = df[['cgpa']]\n",
    "y = df[['package']]"
   ]
  },
  {
   "cell_type": "code",
   "execution_count": 168,
   "metadata": {},
   "outputs": [
    {
     "data": {
      "text/html": [
       "<div>\n",
       "<style scoped>\n",
       "    .dataframe tbody tr th:only-of-type {\n",
       "        vertical-align: middle;\n",
       "    }\n",
       "\n",
       "    .dataframe tbody tr th {\n",
       "        vertical-align: top;\n",
       "    }\n",
       "\n",
       "    .dataframe thead th {\n",
       "        text-align: right;\n",
       "    }\n",
       "</style>\n",
       "<table border=\"1\" class=\"dataframe\">\n",
       "  <thead>\n",
       "    <tr style=\"text-align: right;\">\n",
       "      <th></th>\n",
       "      <th>cgpa</th>\n",
       "    </tr>\n",
       "  </thead>\n",
       "  <tbody>\n",
       "    <tr>\n",
       "      <th>0</th>\n",
       "      <td>6.89</td>\n",
       "    </tr>\n",
       "    <tr>\n",
       "      <th>1</th>\n",
       "      <td>5.12</td>\n",
       "    </tr>\n",
       "    <tr>\n",
       "      <th>2</th>\n",
       "      <td>7.82</td>\n",
       "    </tr>\n",
       "    <tr>\n",
       "      <th>3</th>\n",
       "      <td>7.42</td>\n",
       "    </tr>\n",
       "    <tr>\n",
       "      <th>4</th>\n",
       "      <td>6.94</td>\n",
       "    </tr>\n",
       "  </tbody>\n",
       "</table>\n",
       "</div>"
      ],
      "text/plain": [
       "   cgpa\n",
       "0  6.89\n",
       "1  5.12\n",
       "2  7.82\n",
       "3  7.42\n",
       "4  6.94"
      ]
     },
     "execution_count": 168,
     "metadata": {},
     "output_type": "execute_result"
    }
   ],
   "source": [
    "x.head()"
   ]
  },
  {
   "cell_type": "code",
   "execution_count": 169,
   "metadata": {},
   "outputs": [
    {
     "data": {
      "text/html": [
       "<div>\n",
       "<style scoped>\n",
       "    .dataframe tbody tr th:only-of-type {\n",
       "        vertical-align: middle;\n",
       "    }\n",
       "\n",
       "    .dataframe tbody tr th {\n",
       "        vertical-align: top;\n",
       "    }\n",
       "\n",
       "    .dataframe thead th {\n",
       "        text-align: right;\n",
       "    }\n",
       "</style>\n",
       "<table border=\"1\" class=\"dataframe\">\n",
       "  <thead>\n",
       "    <tr style=\"text-align: right;\">\n",
       "      <th></th>\n",
       "      <th>package</th>\n",
       "    </tr>\n",
       "  </thead>\n",
       "  <tbody>\n",
       "    <tr>\n",
       "      <th>0</th>\n",
       "      <td>3.26</td>\n",
       "    </tr>\n",
       "    <tr>\n",
       "      <th>1</th>\n",
       "      <td>1.98</td>\n",
       "    </tr>\n",
       "    <tr>\n",
       "      <th>2</th>\n",
       "      <td>3.25</td>\n",
       "    </tr>\n",
       "    <tr>\n",
       "      <th>3</th>\n",
       "      <td>3.67</td>\n",
       "    </tr>\n",
       "    <tr>\n",
       "      <th>4</th>\n",
       "      <td>3.57</td>\n",
       "    </tr>\n",
       "  </tbody>\n",
       "</table>\n",
       "</div>"
      ],
      "text/plain": [
       "   package\n",
       "0     3.26\n",
       "1     1.98\n",
       "2     3.25\n",
       "3     3.67\n",
       "4     3.57"
      ]
     },
     "execution_count": 169,
     "metadata": {},
     "output_type": "execute_result"
    }
   ],
   "source": [
    "y.head()"
   ]
  },
  {
   "cell_type": "code",
   "execution_count": 171,
   "metadata": {},
   "outputs": [
    {
     "data": {
      "text/plain": [
       "(200, 2)"
      ]
     },
     "execution_count": 171,
     "metadata": {},
     "output_type": "execute_result"
    }
   ],
   "source": [
    "df.shape"
   ]
  },
  {
   "cell_type": "code",
   "execution_count": 291,
   "metadata": {},
   "outputs": [
    {
     "name": "stdout",
     "output_type": "stream",
     "text": [
      "(140, 1) (60, 1) (140, 1) (60, 1)\n"
     ]
    }
   ],
   "source": [
    "x_train , x_test , y_train , y_test = train_test_split(x , y , train_size=0.7 , random_state=1)\n",
    "print(x_train.shape , x_test.shape , y_train.shape , y_test.shape)"
   ]
  },
  {
   "cell_type": "markdown",
   "metadata": {},
   "source": [
    "## Building Linear Regression Model"
   ]
  },
  {
   "cell_type": "code",
   "execution_count": 292,
   "metadata": {},
   "outputs": [
    {
     "data": {
      "text/plain": [
       "LinearRegression()"
      ]
     },
     "execution_count": 292,
     "metadata": {},
     "output_type": "execute_result"
    }
   ],
   "source": [
    "linear_model = LinearRegression()\n",
    "linear_model.fit(x_train, y_train)"
   ]
  },
  {
   "cell_type": "code",
   "execution_count": 293,
   "metadata": {},
   "outputs": [],
   "source": [
    "y_pred_test = linear_model.predict(x_test)\n",
    "y_pred_train = linear_model.predict(x_train)"
   ]
  },
  {
   "cell_type": "code",
   "execution_count": 294,
   "metadata": {},
   "outputs": [],
   "source": [
    "# x_pred_test = linear_model.predict(y_test)\n",
    "# x_pred_train = linear_model.predict(y_train)"
   ]
  },
  {
   "cell_type": "code",
   "execution_count": 295,
   "metadata": {},
   "outputs": [
    {
     "data": {
      "text/html": [
       "<div>\n",
       "<style scoped>\n",
       "    .dataframe tbody tr th:only-of-type {\n",
       "        vertical-align: middle;\n",
       "    }\n",
       "\n",
       "    .dataframe tbody tr th {\n",
       "        vertical-align: top;\n",
       "    }\n",
       "\n",
       "    .dataframe thead th {\n",
       "        text-align: right;\n",
       "    }\n",
       "</style>\n",
       "<table border=\"1\" class=\"dataframe\">\n",
       "  <thead>\n",
       "    <tr style=\"text-align: right;\">\n",
       "      <th></th>\n",
       "      <th>package</th>\n",
       "    </tr>\n",
       "  </thead>\n",
       "  <tbody>\n",
       "    <tr>\n",
       "      <th>58</th>\n",
       "      <td>3.09</td>\n",
       "    </tr>\n",
       "    <tr>\n",
       "      <th>40</th>\n",
       "      <td>4.02</td>\n",
       "    </tr>\n",
       "    <tr>\n",
       "      <th>34</th>\n",
       "      <td>3.42</td>\n",
       "    </tr>\n",
       "    <tr>\n",
       "      <th>102</th>\n",
       "      <td>1.37</td>\n",
       "    </tr>\n",
       "    <tr>\n",
       "      <th>184</th>\n",
       "      <td>3.14</td>\n",
       "    </tr>\n",
       "  </tbody>\n",
       "</table>\n",
       "</div>"
      ],
      "text/plain": [
       "     package\n",
       "58      3.09\n",
       "40      4.02\n",
       "34      3.42\n",
       "102     1.37\n",
       "184     3.14"
      ]
     },
     "execution_count": 295,
     "metadata": {},
     "output_type": "execute_result"
    }
   ],
   "source": [
    "y_test.head()"
   ]
  },
  {
   "cell_type": "code",
   "execution_count": 296,
   "metadata": {},
   "outputs": [
    {
     "data": {
      "text/plain": [
       "array([[2.9308411 ],\n",
       "       [4.35564495],\n",
       "       [3.1741003 ],\n",
       "       [1.89409359],\n",
       "       [3.48686212],\n",
       "       [3.34206498],\n",
       "       [2.76287642],\n",
       "       [2.94242488],\n",
       "       [3.06405447],\n",
       "       [3.9328373 ],\n",
       "       [3.56215663],\n",
       "       [2.94242488],\n",
       "       [2.75129265],\n",
       "       [2.64124683],\n",
       "       [3.66061868],\n",
       "       [3.20885161],\n",
       "       [3.96758862],\n",
       "       [2.90188168],\n",
       "       [2.18947975],\n",
       "       [3.30152178],\n",
       "       [4.28614232],\n",
       "       [2.88450602],\n",
       "       [1.87092605],\n",
       "       [2.29952558],\n",
       "       [3.6142836 ],\n",
       "       [2.12576901],\n",
       "       [3.91546165],\n",
       "       [2.36323632],\n",
       "       [1.569748  ],\n",
       "       [2.06205827],\n",
       "       [2.30531747],\n",
       "       [3.67799434],\n",
       "       [3.492654  ],\n",
       "       [3.02930316],\n",
       "       [2.56595232],\n",
       "       [2.38640386],\n",
       "       [3.16251653],\n",
       "       [3.81120771],\n",
       "       [3.15093275],\n",
       "       [2.93663299],\n",
       "       [3.41735949],\n",
       "       [2.58911986],\n",
       "       [3.62007548],\n",
       "       [3.39998383],\n",
       "       [2.30531747],\n",
       "       [3.25518669],\n",
       "       [2.30531747],\n",
       "       [3.22622727],\n",
       "       [2.57753609],\n",
       "       [2.43273895],\n",
       "       [3.37681629],\n",
       "       [1.87671794],\n",
       "       [3.20305972],\n",
       "       [2.67020625],\n",
       "       [2.60070363],\n",
       "       [3.05826259],\n",
       "       [3.68378622],\n",
       "       [2.47328215],\n",
       "       [2.52540912],\n",
       "       [3.50423777]])"
      ]
     },
     "execution_count": 296,
     "metadata": {},
     "output_type": "execute_result"
    }
   ],
   "source": [
    "y_pred_test"
   ]
  },
  {
   "cell_type": "code",
   "execution_count": 297,
   "metadata": {},
   "outputs": [
    {
     "data": {
      "text/plain": [
       "array([[4.15872084],\n",
       "       [2.6933738 ],\n",
       "       [2.73970888],\n",
       "       [2.36902821],\n",
       "       [2.03889073],\n",
       "       [3.492654  ],\n",
       "       [2.84975471],\n",
       "       [2.78025208],\n",
       "       [3.92125353],\n",
       "       [1.88250982],\n",
       "       [2.89608979],\n",
       "       [1.39019955],\n",
       "       [3.13934898],\n",
       "       [2.36902821],\n",
       "       [3.90387787],\n",
       "       [2.94242488],\n",
       "       [4.10080198],\n",
       "       [3.04667881],\n",
       "       [2.85554659],\n",
       "       [1.95201245],\n",
       "       [3.02351127],\n",
       "       [3.04088693],\n",
       "       [2.45590649],\n",
       "       [1.88830171],\n",
       "       [3.13934898],\n",
       "       [2.93663299],\n",
       "       [2.15472844],\n",
       "       [2.30531747],\n",
       "       [2.54857666],\n",
       "       [3.48107023],\n",
       "       [2.75129265],\n",
       "       [2.39219575],\n",
       "       [3.15093275],\n",
       "       [3.46369457],\n",
       "       [3.52161343],\n",
       "       [3.00613562],\n",
       "       [2.93663299],\n",
       "       [3.09880578],\n",
       "       [3.30731366],\n",
       "       [2.83237905],\n",
       "       [2.95980053],\n",
       "       [2.89029791],\n",
       "       [2.52540912],\n",
       "       [3.19147595],\n",
       "       [3.4521108 ],\n",
       "       [2.27635804],\n",
       "       [1.69716948],\n",
       "       [2.5717442 ],\n",
       "       [2.82079528],\n",
       "       [3.8922941 ],\n",
       "       [2.91346545],\n",
       "       [2.96559242],\n",
       "       [4.12976141],\n",
       "       [3.32468932],\n",
       "       [3.67220245],\n",
       "       [3.63165925],\n",
       "       [1.66241817],\n",
       "       [2.79183585],\n",
       "       [2.43853083],\n",
       "       [2.59491174],\n",
       "       [2.89029791],\n",
       "       [3.49844589],\n",
       "       [2.20106353],\n",
       "       [3.0524707 ],\n",
       "       [1.7319208 ],\n",
       "       [3.60849171],\n",
       "       [2.50803346],\n",
       "       [2.30531747],\n",
       "       [4.17030461],\n",
       "       [2.00413942],\n",
       "       [2.95400865],\n",
       "       [3.81120771],\n",
       "       [2.32848501],\n",
       "       [3.52740531],\n",
       "       [3.16830841],\n",
       "       [2.50803346],\n",
       "       [2.34586066],\n",
       "       [3.73591319],\n",
       "       [2.52540912],\n",
       "       [3.33627309],\n",
       "       [2.46749026],\n",
       "       [2.45590649],\n",
       "       [2.06205827],\n",
       "       [3.17989218],\n",
       "       [3.18568407],\n",
       "       [3.12197333],\n",
       "       [2.91346545],\n",
       "       [4.0950101 ],\n",
       "       [3.42315137],\n",
       "       [3.34206498],\n",
       "       [3.77066451],\n",
       "       [3.73591319],\n",
       "       [2.94242488],\n",
       "       [3.35944063],\n",
       "       [2.70495757],\n",
       "       [3.22043538],\n",
       "       [4.31510175],\n",
       "       [4.06025878],\n",
       "       [3.71853754],\n",
       "       [2.6122874 ],\n",
       "       [2.50803346],\n",
       "       [3.18568407],\n",
       "       [2.68758191],\n",
       "       [3.75908074],\n",
       "       [3.00034373],\n",
       "       [2.4501146 ],\n",
       "       [2.1721041 ],\n",
       "       [3.51582154],\n",
       "       [1.88830171],\n",
       "       [2.74550077],\n",
       "       [2.47907403],\n",
       "       [2.09680959],\n",
       "       [4.22822346],\n",
       "       [2.83237905],\n",
       "       [2.33427689],\n",
       "       [2.83817094],\n",
       "       [3.33048121],\n",
       "       [3.04088693],\n",
       "       [3.30152178],\n",
       "       [4.47148266],\n",
       "       [2.93663299],\n",
       "       [2.67020625],\n",
       "       [3.19726784],\n",
       "       [3.08722201],\n",
       "       [2.43853083],\n",
       "       [2.80921151],\n",
       "       [3.13934898],\n",
       "       [3.64324303],\n",
       "       [3.13934898],\n",
       "       [3.0930139 ],\n",
       "       [3.24939481],\n",
       "       [3.14514087],\n",
       "       [2.49644969],\n",
       "       [3.70116188],\n",
       "       [3.08143013],\n",
       "       [2.42694706],\n",
       "       [3.05826259],\n",
       "       [3.42894326],\n",
       "       [3.50423777],\n",
       "       [2.34006878]])"
      ]
     },
     "execution_count": 297,
     "metadata": {},
     "output_type": "execute_result"
    }
   ],
   "source": [
    "y_pred_train"
   ]
  },
  {
   "cell_type": "code",
   "execution_count": 298,
   "metadata": {},
   "outputs": [
    {
     "name": "stdout",
     "output_type": "stream",
     "text": [
      "Training Accuracy : 0.7924496222374815\n",
      "Test Accuracy : 0.7286201158620715\n"
     ]
    }
   ],
   "source": [
    "print(\"Training Accuracy :\", r2_score(y_train, y_pred_train))\n",
    "print(\"Test Accuracy :\", r2_score(y_test, y_pred_test))"
   ]
  },
  {
   "cell_type": "code",
   "execution_count": 299,
   "metadata": {},
   "outputs": [],
   "source": [
    "# print(\"Training Accuracy :\", r2_score(x_train, x_pred_train))\n",
    "# print(\"Test Accuracy :\", r2_score(x_test, x_pred_test))"
   ]
  },
  {
   "cell_type": "code",
   "execution_count": 300,
   "metadata": {},
   "outputs": [
    {
     "name": "stdout",
     "output_type": "stream",
     "text": [
      "Training Accuracy : 1.0\n",
      "Test Accuracy : 1.0\n"
     ]
    }
   ],
   "source": [
    "print(\"Training Accuracy :\", r2_score(y_train, y_train))\n",
    "print(\"Test Accuracy :\", r2_score(y_test, y_test))"
   ]
  },
  {
   "cell_type": "code",
   "execution_count": 301,
   "metadata": {},
   "outputs": [],
   "source": [
    "# print(\"Training Accuracy :\", r2_score(x_train, x_train))\n",
    "# print(\"Test Accuracy :\", r2_score(x_test, x_test))"
   ]
  },
  {
   "cell_type": "code",
   "execution_count": 302,
   "metadata": {},
   "outputs": [
    {
     "data": {
      "image/png": "[encoded data removed]",
      "text/plain": [
       "<Figure size 432x288 with 1 Axes>"
      ]
     },
     "metadata": {
      "needs_background": "light"
     },
     "output_type": "display_data"
    }
   ],
   "source": [
    "plt.scatter(x = df['cgpa'], y = df['package'])\n",
    "plt.plot(x_train, linear_model.predict(x_train) , color='red')\n",
    "plt.xlabel('CGPA Score')\n",
    "plt.ylabel('Package Per Annum')\n",
    "plt.show()"
   ]
  },
  {
   "cell_type": "code",
   "execution_count": 303,
   "metadata": {},
   "outputs": [
    {
     "data": {
      "text/plain": [
       "(17, 1)"
      ]
     },
     "execution_count": 303,
     "metadata": {},
     "output_type": "execute_result"
    }
   ],
   "source": [
    "test_data = pd.read_excel('cgpa_score.xlsx')\n",
    "test_data.shape"
   ]
  },
  {
   "cell_type": "code",
   "execution_count": 304,
   "metadata": {},
   "outputs": [
    {
     "data": {
      "text/plain": [
       "(17, 1)"
      ]
     },
     "execution_count": 304,
     "metadata": {},
     "output_type": "execute_result"
    }
   ],
   "source": [
    "test_predicted = linear_model.predict(test_data)\n",
    "test_predicted.shape"
   ]
  },
  {
   "cell_type": "code",
   "execution_count": 305,
   "metadata": {},
   "outputs": [
    {
     "name": "stdout",
     "output_type": "stream",
     "text": [
      "[[2.97717619]\n",
      " [3.03509504]\n",
      " [4.71474185]\n",
      " [1.23961053]\n",
      " [0.66042197]\n",
      " [3.55636474]\n",
      " [1.81879908]\n",
      " [4.1355533 ]\n",
      " [4.71474185]\n",
      " [2.97717619]\n",
      " [4.1355533 ]\n",
      " [0.66042197]\n",
      " [2.39798763]\n",
      " [0.66042197]\n",
      " [0.66042197]\n",
      " [2.97717619]\n",
      " [1.81879908]]\n"
     ]
    }
   ],
   "source": [
    "print(test_predicted)"
   ]
  },
  {
   "cell_type": "code",
   "execution_count": 306,
   "metadata": {},
   "outputs": [
    {
     "name": "stdout",
     "output_type": "stream",
     "text": [
      "    cgpa   Predicted PPA\n",
      "0     7.0           2.98\n",
      "1     7.1           3.04\n",
      "2    10.0           4.71\n",
      "3     4.0           1.24\n",
      "4     3.0           0.66\n",
      "5     8.0           3.56\n",
      "6     5.0           1.82\n",
      "7     9.0           4.14\n",
      "8    10.0           4.71\n",
      "9     7.0           2.98\n",
      "10    9.0           4.14\n",
      "11    3.0           0.66\n",
      "12    6.0           2.40\n",
      "13    3.0           0.66\n",
      "14    3.0           0.66\n",
      "15    7.0           2.98\n",
      "16    5.0           1.82\n"
     ]
    }
   ],
   "source": [
    "test_predicted_df = pd.DataFrame(test_predicted)\n",
    "test_predicted_df.columns = ['Predicted PPA']\n",
    "test_predicted_df['Predicted PPA'] = test_predicted_df['Predicted PPA'].round(2)\n",
    "test_predicted_xlsx = pd.concat([test_data , test_predicted_df] , axis = 1)\n",
    "print(test_predicted_xlsx)"
   ]
  },
  {
   "cell_type": "code",
   "execution_count": 307,
   "metadata": {},
   "outputs": [],
   "source": [
    "test_predicted_xlsx.to_excel('CGPA_Predicted.xlsx')"
   ]
  },
  {
   "cell_type": "code",
   "execution_count": null,
   "metadata": {},
   "outputs": [],
   "source": []
  }
 ],
 "metadata": {
  "kernelspec": {
   "display_name": "Python 3",
   "language": "python",
   "name": "python3"
  },
  "language_info": {
   "codemirror_mode": {
    "name": "ipython",
    "version": 3
   },
   "file_extension": ".py",
   "mimetype": "text/x-python",
   "name": "python",
   "nbconvert_exporter": "python",
   "pygments_lexer": "ipython3",
   "version": "3.8.3"
  }
 },
 "nbformat": 4,
 "nbformat_minor": 4
}

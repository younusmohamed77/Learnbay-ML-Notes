{
 "cells": [
  {
   "cell_type": "code",
   "execution_count": 1,
   "metadata": {},
   "outputs": [],
   "source": [
    "import os\n",
    "import numpy as np\n",
    "import pandas as pd\n",
    "import matplotlib.pyplot as plt\n",
    "import seaborn as sns\n",
    "from sklearn.model_selection import train_test_split\n",
    "from sklearn.linear_model import LinearRegression\n",
    "from sklearn.metrics import r2_score"
   ]
  },
  {
   "cell_type": "code",
   "execution_count": 2,
   "metadata": {},
   "outputs": [
    {
     "data": {
      "text/html": [
       "<div>\n",
       "<style scoped>\n",
       "    .dataframe tbody tr th:only-of-type {\n",
       "        vertical-align: middle;\n",
       "    }\n",
       "\n",
       "    .dataframe tbody tr th {\n",
       "        vertical-align: top;\n",
       "    }\n",
       "\n",
       "    .dataframe thead th {\n",
       "        text-align: right;\n",
       "    }\n",
       "</style>\n",
       "<table border=\"1\" class=\"dataframe\">\n",
       "  <thead>\n",
       "    <tr style=\"text-align: right;\">\n",
       "      <th></th>\n",
       "      <th>cgpa</th>\n",
       "      <th>package</th>\n",
       "    </tr>\n",
       "  </thead>\n",
       "  <tbody>\n",
       "    <tr>\n",
       "      <th>0</th>\n",
       "      <td>6.89</td>\n",
       "      <td>3.26</td>\n",
       "    </tr>\n",
       "    <tr>\n",
       "      <th>1</th>\n",
       "      <td>5.12</td>\n",
       "      <td>1.98</td>\n",
       "    </tr>\n",
       "    <tr>\n",
       "      <th>2</th>\n",
       "      <td>7.82</td>\n",
       "      <td>3.25</td>\n",
       "    </tr>\n",
       "    <tr>\n",
       "      <th>3</th>\n",
       "      <td>7.42</td>\n",
       "      <td>3.67</td>\n",
       "    </tr>\n",
       "    <tr>\n",
       "      <th>4</th>\n",
       "      <td>6.94</td>\n",
       "      <td>3.57</td>\n",
       "    </tr>\n",
       "  </tbody>\n",
       "</table>\n",
       "</div>"
      ],
      "text/plain": [
       "   cgpa  package\n",
       "0  6.89     3.26\n",
       "1  5.12     1.98\n",
       "2  7.82     3.25\n",
       "3  7.42     3.67\n",
       "4  6.94     3.57"
      ]
     },
     "execution_count": 2,
     "metadata": {},
     "output_type": "execute_result"
    }
   ],
   "source": [
    "df = pd.read_csv('placement.csv')\n",
    "df.head()"
   ]
  },
  {
   "cell_type": "code",
   "execution_count": 3,
   "metadata": {},
   "outputs": [
    {
     "data": {
      "image/png": "[encoded data removed]",
      "text/plain": [
       "<Figure size 432x288 with 1 Axes>"
      ]
     },
     "metadata": {
      "needs_background": "light"
     },
     "output_type": "display_data"
    }
   ],
   "source": [
    "plt.scatter(x = df['cgpa'] , y = df['package'])\n",
    "plt.xlabel('CGPA Score')\n",
    "plt.ylabel('Package Per Annum')\n",
    "plt.show()"
   ]
  },
  {
   "cell_type": "code",
   "execution_count": 4,
   "metadata": {},
   "outputs": [
    {
     "name": "stdout",
     "output_type": "stream",
     "text": [
      "cgpa       0\n",
      "package    0\n",
      "dtype: int64\n"
     ]
    }
   ],
   "source": [
    "print(df.isnull().sum())"
   ]
  },
  {
   "cell_type": "code",
   "execution_count": 5,
   "metadata": {},
   "outputs": [
    {
     "name": "stdout",
     "output_type": "stream",
     "text": [
      "<class 'pandas.core.frame.DataFrame'>\n",
      "RangeIndex: 200 entries, 0 to 199\n",
      "Data columns (total 2 columns):\n",
      " #   Column   Non-Null Count  Dtype  \n",
      "---  ------   --------------  -----  \n",
      " 0   cgpa     200 non-null    float64\n",
      " 1   package  200 non-null    float64\n",
      "dtypes: float64(2)\n",
      "memory usage: 3.2 KB\n"
     ]
    }
   ],
   "source": [
    "df.info()"
   ]
  },
  {
   "cell_type": "code",
   "execution_count": 6,
   "metadata": {},
   "outputs": [
    {
     "data": {
      "text/html": [
       "<div>\n",
       "<style scoped>\n",
       "    .dataframe tbody tr th:only-of-type {\n",
       "        vertical-align: middle;\n",
       "    }\n",
       "\n",
       "    .dataframe tbody tr th {\n",
       "        vertical-align: top;\n",
       "    }\n",
       "\n",
       "    .dataframe thead th {\n",
       "        text-align: right;\n",
       "    }\n",
       "</style>\n",
       "<table border=\"1\" class=\"dataframe\">\n",
       "  <thead>\n",
       "    <tr style=\"text-align: right;\">\n",
       "      <th></th>\n",
       "      <th>cgpa</th>\n",
       "      <th>package</th>\n",
       "    </tr>\n",
       "  </thead>\n",
       "  <tbody>\n",
       "    <tr>\n",
       "      <th>count</th>\n",
       "      <td>200.000000</td>\n",
       "      <td>200.000000</td>\n",
       "    </tr>\n",
       "    <tr>\n",
       "      <th>mean</th>\n",
       "      <td>6.990500</td>\n",
       "      <td>2.996050</td>\n",
       "    </tr>\n",
       "    <tr>\n",
       "      <th>std</th>\n",
       "      <td>1.069409</td>\n",
       "      <td>0.691644</td>\n",
       "    </tr>\n",
       "    <tr>\n",
       "      <th>min</th>\n",
       "      <td>4.260000</td>\n",
       "      <td>1.370000</td>\n",
       "    </tr>\n",
       "    <tr>\n",
       "      <th>25%</th>\n",
       "      <td>6.190000</td>\n",
       "      <td>2.487500</td>\n",
       "    </tr>\n",
       "    <tr>\n",
       "      <th>50%</th>\n",
       "      <td>6.965000</td>\n",
       "      <td>2.995000</td>\n",
       "    </tr>\n",
       "    <tr>\n",
       "      <th>75%</th>\n",
       "      <td>7.737500</td>\n",
       "      <td>3.492500</td>\n",
       "    </tr>\n",
       "    <tr>\n",
       "      <th>max</th>\n",
       "      <td>9.580000</td>\n",
       "      <td>4.620000</td>\n",
       "    </tr>\n",
       "  </tbody>\n",
       "</table>\n",
       "</div>"
      ],
      "text/plain": [
       "             cgpa     package\n",
       "count  200.000000  200.000000\n",
       "mean     6.990500    2.996050\n",
       "std      1.069409    0.691644\n",
       "min      4.260000    1.370000\n",
       "25%      6.190000    2.487500\n",
       "50%      6.965000    2.995000\n",
       "75%      7.737500    3.492500\n",
       "max      9.580000    4.620000"
      ]
     },
     "execution_count": 6,
     "metadata": {},
     "output_type": "execute_result"
    }
   ],
   "source": [
    "df.describe()"
   ]
  },
  {
   "cell_type": "markdown",
   "metadata": {},
   "source": [
    "### No preprocessing required in this simple linear regression dataset"
   ]
  },
  {
   "cell_type": "code",
   "execution_count": 7,
   "metadata": {},
   "outputs": [],
   "source": [
    "# Split the data into independent variable and dependent variable\n",
    "\n",
    "x = df[['cgpa']]\n",
    "y = df[['package']]"
   ]
  },
  {
   "cell_type": "code",
   "execution_count": 8,
   "metadata": {},
   "outputs": [
    {
     "data": {
      "text/html": [
       "<div>\n",
       "<style scoped>\n",
       "    .dataframe tbody tr th:only-of-type {\n",
       "        vertical-align: middle;\n",
       "    }\n",
       "\n",
       "    .dataframe tbody tr th {\n",
       "        vertical-align: top;\n",
       "    }\n",
       "\n",
       "    .dataframe thead th {\n",
       "        text-align: right;\n",
       "    }\n",
       "</style>\n",
       "<table border=\"1\" class=\"dataframe\">\n",
       "  <thead>\n",
       "    <tr style=\"text-align: right;\">\n",
       "      <th></th>\n",
       "      <th>cgpa</th>\n",
       "    </tr>\n",
       "  </thead>\n",
       "  <tbody>\n",
       "    <tr>\n",
       "      <th>0</th>\n",
       "      <td>6.89</td>\n",
       "    </tr>\n",
       "    <tr>\n",
       "      <th>1</th>\n",
       "      <td>5.12</td>\n",
       "    </tr>\n",
       "    <tr>\n",
       "      <th>2</th>\n",
       "      <td>7.82</td>\n",
       "    </tr>\n",
       "    <tr>\n",
       "      <th>3</th>\n",
       "      <td>7.42</td>\n",
       "    </tr>\n",
       "    <tr>\n",
       "      <th>4</th>\n",
       "      <td>6.94</td>\n",
       "    </tr>\n",
       "  </tbody>\n",
       "</table>\n",
       "</div>"
      ],
      "text/plain": [
       "   cgpa\n",
       "0  6.89\n",
       "1  5.12\n",
       "2  7.82\n",
       "3  7.42\n",
       "4  6.94"
      ]
     },
     "execution_count": 8,
     "metadata": {},
     "output_type": "execute_result"
    }
   ],
   "source": [
    "x.head()"
   ]
  },
  {
   "cell_type": "code",
   "execution_count": 9,
   "metadata": {},
   "outputs": [
    {
     "data": {
      "text/html": [
       "<div>\n",
       "<style scoped>\n",
       "    .dataframe tbody tr th:only-of-type {\n",
       "        vertical-align: middle;\n",
       "    }\n",
       "\n",
       "    .dataframe tbody tr th {\n",
       "        vertical-align: top;\n",
       "    }\n",
       "\n",
       "    .dataframe thead th {\n",
       "        text-align: right;\n",
       "    }\n",
       "</style>\n",
       "<table border=\"1\" class=\"dataframe\">\n",
       "  <thead>\n",
       "    <tr style=\"text-align: right;\">\n",
       "      <th></th>\n",
       "      <th>package</th>\n",
       "    </tr>\n",
       "  </thead>\n",
       "  <tbody>\n",
       "    <tr>\n",
       "      <th>0</th>\n",
       "      <td>3.26</td>\n",
       "    </tr>\n",
       "    <tr>\n",
       "      <th>1</th>\n",
       "      <td>1.98</td>\n",
       "    </tr>\n",
       "    <tr>\n",
       "      <th>2</th>\n",
       "      <td>3.25</td>\n",
       "    </tr>\n",
       "    <tr>\n",
       "      <th>3</th>\n",
       "      <td>3.67</td>\n",
       "    </tr>\n",
       "    <tr>\n",
       "      <th>4</th>\n",
       "      <td>3.57</td>\n",
       "    </tr>\n",
       "  </tbody>\n",
       "</table>\n",
       "</div>"
      ],
      "text/plain": [
       "   package\n",
       "0     3.26\n",
       "1     1.98\n",
       "2     3.25\n",
       "3     3.67\n",
       "4     3.57"
      ]
     },
     "execution_count": 9,
     "metadata": {},
     "output_type": "execute_result"
    }
   ],
   "source": [
    "y.head()"
   ]
  },
  {
   "cell_type": "code",
   "execution_count": 10,
   "metadata": {},
   "outputs": [
    {
     "data": {
      "text/plain": [
       "(200, 2)"
      ]
     },
     "execution_count": 10,
     "metadata": {},
     "output_type": "execute_result"
    }
   ],
   "source": [
    "df.shape"
   ]
  },
  {
   "cell_type": "code",
   "execution_count": 11,
   "metadata": {},
   "outputs": [
    {
     "name": "stdout",
     "output_type": "stream",
     "text": [
      "(140, 1) (60, 1) (140, 1) (60, 1)\n"
     ]
    }
   ],
   "source": [
    "x_train , x_test , y_train , y_test = train_test_split(x , y , train_size=0.7 , random_state=1)\n",
    "print(x_train.shape , x_test.shape , y_train.shape , y_test.shape)"
   ]
  },
  {
   "cell_type": "markdown",
   "metadata": {},
   "source": [
    "## Building Linear Regression Model"
   ]
  },
  {
   "cell_type": "code",
   "execution_count": 18,
   "metadata": {},
   "outputs": [
    {
     "data": {
      "text/plain": [
       "LinearRegression()"
      ]
     },
     "execution_count": 18,
     "metadata": {},
     "output_type": "execute_result"
    }
   ],
   "source": [
    "linear_model = LinearRegression()\n",
    "linear_model.fit(y_train, x_train)"
   ]
  },
  {
   "cell_type": "code",
   "execution_count": 19,
   "metadata": {},
   "outputs": [],
   "source": [
    "x_pred_test = linear_model.predict(y_test)\n",
    "x_pred_train = linear_model.predict(y_train)"
   ]
  },
  {
   "cell_type": "code",
   "execution_count": 73,
   "metadata": {},
   "outputs": [],
   "source": [
    "# x_pred_test = linear_model.predict(y_test)\n",
    "# x_pred_train = linear_model.predict(y_train)"
   ]
  },
  {
   "cell_type": "code",
   "execution_count": 20,
   "metadata": {},
   "outputs": [
    {
     "data": {
      "text/html": [
       "<div>\n",
       "<style scoped>\n",
       "    .dataframe tbody tr th:only-of-type {\n",
       "        vertical-align: middle;\n",
       "    }\n",
       "\n",
       "    .dataframe tbody tr th {\n",
       "        vertical-align: top;\n",
       "    }\n",
       "\n",
       "    .dataframe thead th {\n",
       "        text-align: right;\n",
       "    }\n",
       "</style>\n",
       "<table border=\"1\" class=\"dataframe\">\n",
       "  <thead>\n",
       "    <tr style=\"text-align: right;\">\n",
       "      <th></th>\n",
       "      <th>cgpa</th>\n",
       "    </tr>\n",
       "  </thead>\n",
       "  <tbody>\n",
       "    <tr>\n",
       "      <th>58</th>\n",
       "      <td>6.92</td>\n",
       "    </tr>\n",
       "    <tr>\n",
       "      <th>40</th>\n",
       "      <td>9.38</td>\n",
       "    </tr>\n",
       "    <tr>\n",
       "      <th>34</th>\n",
       "      <td>7.34</td>\n",
       "    </tr>\n",
       "    <tr>\n",
       "      <th>102</th>\n",
       "      <td>5.13</td>\n",
       "    </tr>\n",
       "    <tr>\n",
       "      <th>184</th>\n",
       "      <td>7.88</td>\n",
       "    </tr>\n",
       "  </tbody>\n",
       "</table>\n",
       "</div>"
      ],
      "text/plain": [
       "     cgpa\n",
       "58   6.92\n",
       "40   9.38\n",
       "34   7.34\n",
       "102  5.13\n",
       "184  7.88"
      ]
     },
     "execution_count": 20,
     "metadata": {},
     "output_type": "execute_result"
    }
   ],
   "source": [
    "x_test.head()"
   ]
  },
  {
   "cell_type": "code",
   "execution_count": 21,
   "metadata": {},
   "outputs": [
    {
     "data": {
      "text/plain": [
       "array([[7.15156436],\n",
       "       [8.42399653],\n",
       "       [7.60307255],\n",
       "       [4.79824895],\n",
       "       [7.21997469],\n",
       "       [8.34190413],\n",
       "       [6.74110237],\n",
       "       [7.80830354],\n",
       "       [7.69884701],\n",
       "       [7.73989321],\n",
       "       [8.0682628 ],\n",
       "       [7.00106163],\n",
       "       [6.48114311],\n",
       "       [6.6453279 ],\n",
       "       [8.0682628 ],\n",
       "       [6.86424096],\n",
       "       [8.50608893],\n",
       "       [6.8505589 ],\n",
       "       [5.79703979],\n",
       "       [7.45256982],\n",
       "       [8.109309  ],\n",
       "       [6.13909145],\n",
       "       [5.4686702 ],\n",
       "       [6.23486591],\n",
       "       [8.24612967],\n",
       "       [6.41273277],\n",
       "       [8.88918678],\n",
       "       [5.98858872],\n",
       "       [5.57812673],\n",
       "       [5.87913219],\n",
       "       [7.38415949],\n",
       "       [8.50608893],\n",
       "       [7.94512421],\n",
       "       [7.90407801],\n",
       "       [7.34311329],\n",
       "       [6.8095127 ],\n",
       "       [7.01474369],\n",
       "       [8.43767859],\n",
       "       [6.94633336],\n",
       "       [6.35800451],\n",
       "       [7.76725734],\n",
       "       [6.46746104],\n",
       "       [8.47872479],\n",
       "       [7.60307255],\n",
       "       [6.67269204],\n",
       "       [6.79583063],\n",
       "       [5.48235226],\n",
       "       [7.47993395],\n",
       "       [7.27470295],\n",
       "       [6.08436318],\n",
       "       [8.16403727],\n",
       "       [6.07068112],\n",
       "       [6.54955344],\n",
       "       [6.49482517],\n",
       "       [6.65900997],\n",
       "       [7.06947196],\n",
       "       [8.24612967],\n",
       "       [5.92017839],\n",
       "       [6.11172732],\n",
       "       [8.24612967]])"
      ]
     },
     "execution_count": 21,
     "metadata": {},
     "output_type": "execute_result"
    }
   ],
   "source": [
    "x_pred_test"
   ]
  },
  {
   "cell_type": "code",
   "execution_count": 22,
   "metadata": {},
   "outputs": [
    {
     "data": {
      "text/plain": [
       "array([[7.47993395],\n",
       "       [6.87792303],\n",
       "       [5.94754252],\n",
       "       [6.39905071],\n",
       "       [5.78335772],\n",
       "       [7.01474369],\n",
       "       [7.17892849],\n",
       "       [6.78214857],\n",
       "       [8.51977099],\n",
       "       [5.15398267],\n",
       "       [7.15156436],\n",
       "       [5.01716201],\n",
       "       [6.6453279 ],\n",
       "       [7.08315403],\n",
       "       [8.36926826],\n",
       "       [6.16645558],\n",
       "       [7.91776007],\n",
       "       [7.01474369],\n",
       "       [7.13788229],\n",
       "       [5.29080333],\n",
       "       [6.82319477],\n",
       "       [6.5632355 ],\n",
       "       [5.93386045],\n",
       "       [5.67390119],\n",
       "       [7.68516495],\n",
       "       [6.87792303],\n",
       "       [5.89281425],\n",
       "       [6.31695831],\n",
       "       [6.26223005],\n",
       "       [7.82198561],\n",
       "       [7.35679535],\n",
       "       [6.8095127 ],\n",
       "       [7.47993395],\n",
       "       [7.67148288],\n",
       "       [8.38295033],\n",
       "       [7.02842576],\n",
       "       [6.28959418],\n",
       "       [7.35679535],\n",
       "       [7.57570841],\n",
       "       [6.42641484],\n",
       "       [7.41152362],\n",
       "       [6.9326513 ],\n",
       "       [5.85176805],\n",
       "       [7.13788229],\n",
       "       [7.37047742],\n",
       "       [6.13909145],\n",
       "       [4.94875168],\n",
       "       [6.65900997],\n",
       "       [6.48114311],\n",
       "       [8.53345306],\n",
       "       [7.38415949],\n",
       "       [7.15156436],\n",
       "       [9.21755638],\n",
       "       [8.13667313],\n",
       "       [7.56202635],\n",
       "       [7.84934974],\n",
       "       [4.94875168],\n",
       "       [6.33064038],\n",
       "       [6.01595285],\n",
       "       [5.78335772],\n",
       "       [7.63043668],\n",
       "       [8.3966324 ],\n",
       "       [5.94754252],\n",
       "       [6.9326513 ],\n",
       "       [5.03084407],\n",
       "       [7.78093941],\n",
       "       [6.6453279 ],\n",
       "       [5.90649632],\n",
       "       [8.1503552 ],\n",
       "       [5.4686702 ],\n",
       "       [7.13788229],\n",
       "       [7.69884701],\n",
       "       [5.76967566],\n",
       "       [8.58818132],\n",
       "       [7.24733882],\n",
       "       [6.31695831],\n",
       "       [6.48114311],\n",
       "       [7.72621114],\n",
       "       [6.8505589 ],\n",
       "       [8.04089867],\n",
       "       [6.70005617],\n",
       "       [6.48114311],\n",
       "       [6.00227078],\n",
       "       [7.13788229],\n",
       "       [6.91896923],\n",
       "       [7.34311329],\n",
       "       [6.61796377],\n",
       "       [8.2734938 ],\n",
       "       [8.47872479],\n",
       "       [7.63043668],\n",
       "       [8.54713512],\n",
       "       [7.60307255],\n",
       "       [7.23365676],\n",
       "       [6.70005617],\n",
       "       [6.63164584],\n",
       "       [7.94512421],\n",
       "       [8.90286885],\n",
       "       [9.24492051],\n",
       "       [7.94512421],\n",
       "       [5.67390119],\n",
       "       [6.6042817 ],\n",
       "       [7.38415949],\n",
       "       [7.05578989],\n",
       "       [8.68395579],\n",
       "       [7.71252908],\n",
       "       [6.08436318],\n",
       "       [5.92017839],\n",
       "       [7.49361602],\n",
       "       [5.63285499],\n",
       "       [5.57812673],\n",
       "       [6.07068112],\n",
       "       [5.12661854],\n",
       "       [8.73868405],\n",
       "       [6.31695831],\n",
       "       [6.44009691],\n",
       "       [7.27470295],\n",
       "       [6.71373823],\n",
       "       [6.49482517],\n",
       "       [7.01474369],\n",
       "       [8.98496125],\n",
       "       [7.08315403],\n",
       "       [6.61796377],\n",
       "       [7.20629262],\n",
       "       [6.20750178],\n",
       "       [6.28959418],\n",
       "       [7.73989321],\n",
       "       [7.24733882],\n",
       "       [7.89039594],\n",
       "       [7.91776007],\n",
       "       [6.79583063],\n",
       "       [7.49361602],\n",
       "       [7.19261056],\n",
       "       [6.23486591],\n",
       "       [8.05458074],\n",
       "       [7.02842576],\n",
       "       [6.45377897],\n",
       "       [7.20629262],\n",
       "       [7.87671387],\n",
       "       [7.23365676],\n",
       "       [6.24854798]])"
      ]
     },
     "execution_count": 22,
     "metadata": {},
     "output_type": "execute_result"
    }
   ],
   "source": [
    "x_pred_train"
   ]
  },
  {
   "cell_type": "code",
   "execution_count": 23,
   "metadata": {},
   "outputs": [
    {
     "name": "stdout",
     "output_type": "stream",
     "text": [
      "Training Accuracy : 0.7924496222374815\n",
      "Test Accuracy : 0.735043853084492\n"
     ]
    }
   ],
   "source": [
    "print(\"Training Accuracy :\", r2_score(x_train, x_pred_train))\n",
    "print(\"Test Accuracy :\", r2_score(x_test, x_pred_test))"
   ]
  },
  {
   "cell_type": "code",
   "execution_count": 74,
   "metadata": {},
   "outputs": [],
   "source": [
    "# print(\"Training Accuracy :\", r2_score(x_train, x_pred_train))\n",
    "# print(\"Test Accuracy :\", r2_score(x_test, x_pred_test))"
   ]
  },
  {
   "cell_type": "code",
   "execution_count": 24,
   "metadata": {},
   "outputs": [
    {
     "name": "stdout",
     "output_type": "stream",
     "text": [
      "Training Accuracy : 1.0\n",
      "Test Accuracy : 1.0\n"
     ]
    }
   ],
   "source": [
    "print(\"Training Accuracy :\", r2_score(x_train, x_train))\n",
    "print(\"Test Accuracy :\", r2_score(x_test, x_test))"
   ]
  },
  {
   "cell_type": "code",
   "execution_count": 75,
   "metadata": {},
   "outputs": [],
   "source": [
    "# print(\"Training Accuracy :\", r2_score(x_train, x_train))\n",
    "# print(\"Test Accuracy :\", r2_score(x_test, x_test))"
   ]
  },
  {
   "cell_type": "code",
   "execution_count": 29,
   "metadata": {},
   "outputs": [
    {
     "data": {
      "image/png": "[encoded data removed]",
      "text/plain": [
       "<Figure size 432x288 with 1 Axes>"
      ]
     },
     "metadata": {
      "needs_background": "light"
     },
     "output_type": "display_data"
    }
   ],
   "source": [
    "plt.scatter(x = df['package'], y = df['cgpa'])\n",
    "plt.plot(y_train, linear_model.predict(y_train) , color='red')\n",
    "plt.xlabel('Package Per Annum')\n",
    "plt.ylabel('CGPA')\n",
    "plt.show()"
   ]
  },
  {
   "cell_type": "code",
   "execution_count": 35,
   "metadata": {},
   "outputs": [
    {
     "data": {
      "text/plain": [
       "(17, 1)"
      ]
     },
     "execution_count": 35,
     "metadata": {},
     "output_type": "execute_result"
    }
   ],
   "source": [
    "test_data = pd.read_excel('ppa_score.xlsx')\n",
    "test_data.shape"
   ]
  },
  {
   "cell_type": "code",
   "execution_count": 36,
   "metadata": {},
   "outputs": [
    {
     "data": {
      "text/plain": [
       "(17, 1)"
      ]
     },
     "execution_count": 36,
     "metadata": {},
     "output_type": "execute_result"
    }
   ],
   "source": [
    "test_predicted = linear_model.predict(test_data)\n",
    "test_predicted.shape"
   ]
  },
  {
   "cell_type": "code",
   "execution_count": 37,
   "metadata": {},
   "outputs": [
    {
     "name": "stdout",
     "output_type": "stream",
     "text": [
      "[[7.00106163]\n",
      " [7.08315403]\n",
      " [9.36805911]\n",
      " [4.62038208]\n",
      " [3.82682224]\n",
      " [7.79462148]\n",
      " [5.41394193]\n",
      " [8.58818132]\n",
      " [9.36805911]\n",
      " [7.00106163]\n",
      " [8.58818132]\n",
      " [3.82682224]\n",
      " [6.20750178]\n",
      " [3.82682224]\n",
      " [3.82682224]\n",
      " [7.00106163]\n",
      " [5.41394193]]\n"
     ]
    }
   ],
   "source": [
    "print(test_predicted)"
   ]
  },
  {
   "cell_type": "code",
   "execution_count": 38,
   "metadata": {},
   "outputs": [
    {
     "name": "stdout",
     "output_type": "stream",
     "text": [
      "    cgpa   Predicted PPA\n",
      "0    2.98           7.00\n",
      "1    3.04           7.08\n",
      "2    4.71           9.37\n",
      "3    1.24           4.62\n",
      "4    0.66           3.83\n",
      "5    3.56           7.79\n",
      "6    1.82           5.41\n",
      "7    4.14           8.59\n",
      "8    4.71           9.37\n",
      "9    2.98           7.00\n",
      "10   4.14           8.59\n",
      "11   0.66           3.83\n",
      "12   2.40           6.21\n",
      "13   0.66           3.83\n",
      "14   0.66           3.83\n",
      "15   2.98           7.00\n",
      "16   1.82           5.41\n"
     ]
    }
   ],
   "source": [
    "test_predicted_df = pd.DataFrame(test_predicted)\n",
    "test_predicted_df.columns = ['Predicted PPA']\n",
    "test_predicted_df['Predicted PPA'] = test_predicted_df['Predicted PPA'].round(2)\n",
    "test_predicted_xlsx = pd.concat([test_data , test_predicted_df] , axis = 1)\n",
    "print(test_predicted_xlsx)"
   ]
  },
  {
   "cell_type": "code",
   "execution_count": 39,
   "metadata": {},
   "outputs": [],
   "source": [
    "test_predicted_xlsx.to_excel('PPA_Predicted.xlsx')"
   ]
  },
  {
   "cell_type": "code",
   "execution_count": null,
   "metadata": {},
   "outputs": [],
   "source": []
  }
 ],
 "metadata": {
  "kernelspec": {
   "display_name": "Python 3",
   "language": "python",
   "name": "python3"
  },
  "language_info": {
   "codemirror_mode": {
    "name": "ipython",
    "version": 3
   },
   "file_extension": ".py",
   "mimetype": "text/x-python",
   "name": "python",
   "nbconvert_exporter": "python",
   "pygments_lexer": "ipython3",
   "version": "3.8.3"
  }
 },
 "nbformat": 4,
 "nbformat_minor": 4
}

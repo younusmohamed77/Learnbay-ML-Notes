{
 "cells": [
  {
   "cell_type": "markdown",
   "id": "115ce28a",
   "metadata": {},
   "source": [
    "# Euclidean Distance from the origin"
   ]
  },
  {
   "cell_type": "code",
   "execution_count": 1,
   "id": "c3db275a",
   "metadata": {},
   "outputs": [
    {
     "name": "stdout",
     "output_type": "stream",
     "text": [
      "Euclidean Distance from the origin : 114.04385121522334\n"
     ]
    }
   ],
   "source": [
    "# Distance from origin - Euclidean norm\n",
    "import numpy as np\n",
    "\n",
    "# Define an n-dimensional vector A\n",
    "A = np.array([1,2,3,4,5,6,7,8,9,10,11,50,100])\n",
    "\n",
    "# Calculate the Euclidean Distance from the origin (L2 norm) - KNN Algorithm (K-Nearest Neighbors)\n",
    "distance = np.linalg.norm(A)\n",
    "\n",
    "print(\"Euclidean Distance from the origin :\", distance)"
   ]
  },
  {
   "cell_type": "markdown",
   "id": "ef68139b",
   "metadata": {},
   "source": [
    "# Euclidean Distance between two points"
   ]
  },
  {
   "cell_type": "code",
   "execution_count": 2,
   "id": "6d2138eb",
   "metadata": {},
   "outputs": [
    {
     "name": "stdout",
     "output_type": "stream",
     "text": [
      "difference : [-1 -3 -3 -4 -4 -4]\n",
      "Euclidean Distance between A and B : 8.18535277187245\n"
     ]
    }
   ],
   "source": [
    "# To find the euclidean distance of n-Dim\n",
    "\n",
    "# Defien two n-dimensional vectors A and B\n",
    "A = np.array([1,2,3,4,5,6])\n",
    "B = np.array([2,5,6,8,9,10])\n",
    "\n",
    "# Calculate the difference vector\n",
    "difference = A - B\n",
    "print(\"difference :\", difference)\n",
    "\n",
    "# Calculate the Euclidean Distance between A and B (L2 norm) - KNN Algorithm (K-Nearest Neighbors)\n",
    "\n",
    "Euclidean = np.linalg.norm(difference)\n",
    "\n",
    "print(\"Euclidean Distance between A and B :\", Euclidean)\n"
   ]
  },
  {
   "cell_type": "markdown",
   "id": "5a400973",
   "metadata": {},
   "source": [
    "# Mean Centric"
   ]
  },
  {
   "cell_type": "code",
   "execution_count": 3,
   "id": "6354ce45",
   "metadata": {},
   "outputs": [
    {
     "data": {
      "text/plain": [
       "array([[0.58862787, 0.22097501],\n",
       "       [0.80763035, 0.54455275],\n",
       "       [0.08109622, 0.68583898],\n",
       "       [0.56024408, 0.04111624],\n",
       "       [0.54723506, 0.52632218],\n",
       "       [0.03780183, 0.57474626],\n",
       "       [0.95730801, 0.57863179],\n",
       "       [0.59501793, 0.09861989],\n",
       "       [0.15624249, 0.40477214],\n",
       "       [0.8892523 , 0.44409958],\n",
       "       [0.89308404, 0.98603384],\n",
       "       [0.54638677, 0.99930841],\n",
       "       [0.06427416, 0.56764536],\n",
       "       [0.78235445, 0.90468949],\n",
       "       [0.09633017, 0.04886403],\n",
       "       [0.71385832, 0.29759629],\n",
       "       [0.87869009, 0.97961312],\n",
       "       [0.61079576, 0.64758836],\n",
       "       [0.09901226, 0.94193766],\n",
       "       [0.82265626, 0.2054789 ],\n",
       "       [0.95932649, 0.79356741],\n",
       "       [0.82767393, 0.92981084],\n",
       "       [0.45006957, 0.82865039],\n",
       "       [0.1945964 , 0.02259163],\n",
       "       [0.71825425, 0.97582095],\n",
       "       [0.03276787, 0.75617545],\n",
       "       [0.44728895, 0.73108778],\n",
       "       [0.68592954, 0.25179964],\n",
       "       [0.07247484, 0.61476732],\n",
       "       [0.35553537, 0.96635058],\n",
       "       [0.92668504, 0.36652072],\n",
       "       [0.73334193, 0.45389289],\n",
       "       [0.1716166 , 0.78542997],\n",
       "       [0.53156294, 0.39760388],\n",
       "       [0.80258358, 0.68972984],\n",
       "       [0.54104821, 0.65696946],\n",
       "       [0.52451019, 0.96957073],\n",
       "       [0.30574116, 0.76802441],\n",
       "       [0.03226522, 0.84353332],\n",
       "       [0.98150994, 0.67514435],\n",
       "       [0.18167708, 0.49420676],\n",
       "       [0.18698617, 0.19655569],\n",
       "       [0.65774191, 0.46559231],\n",
       "       [0.17314308, 0.07422711],\n",
       "       [0.47172933, 0.32202866],\n",
       "       [0.15482515, 0.51241208],\n",
       "       [0.29538074, 0.51666112],\n",
       "       [0.33136856, 0.55182194],\n",
       "       [0.39554489, 0.90712037],\n",
       "       [0.05144788, 0.03424781],\n",
       "       [0.22644184, 0.97981148],\n",
       "       [0.80013868, 0.56569251],\n",
       "       [0.26167106, 0.51038615],\n",
       "       [0.17514911, 0.65779992],\n",
       "       [0.55992789, 0.20622786],\n",
       "       [0.31445505, 0.87073357],\n",
       "       [0.42608047, 0.51170089],\n",
       "       [0.00112629, 0.47356757],\n",
       "       [0.74380646, 0.72532114],\n",
       "       [0.84527657, 0.10408215],\n",
       "       [0.85567358, 0.44030576],\n",
       "       [0.08256816, 0.11220013],\n",
       "       [0.32176525, 0.06501993],\n",
       "       [0.16625862, 0.06776043],\n",
       "       [0.92927475, 0.68988356],\n",
       "       [0.3279747 , 0.81378724],\n",
       "       [0.59636617, 0.4313826 ],\n",
       "       [0.44701849, 0.42326555],\n",
       "       [0.86844624, 0.51871954],\n",
       "       [0.32723568, 0.03524627],\n",
       "       [0.38224614, 0.78071685],\n",
       "       [0.82130046, 0.92080574],\n",
       "       [0.33518426, 0.93060658],\n",
       "       [0.51125447, 0.54955804],\n",
       "       [0.60535662, 0.40459919],\n",
       "       [0.25522392, 0.79649389],\n",
       "       [0.01776052, 0.61275639],\n",
       "       [0.32458057, 0.8301437 ],\n",
       "       [0.17437824, 0.33273103],\n",
       "       [0.76899835, 0.4832656 ],\n",
       "       [0.98360657, 0.20466949],\n",
       "       [0.4458465 , 0.7828393 ],\n",
       "       [0.07213383, 0.79558373],\n",
       "       [0.31997009, 0.0629592 ],\n",
       "       [0.65700672, 0.10390636],\n",
       "       [0.39512086, 0.14381362],\n",
       "       [0.45163856, 0.63095672],\n",
       "       [0.97892712, 0.30652164],\n",
       "       [0.95392742, 0.84268074],\n",
       "       [0.02681472, 0.03959564],\n",
       "       [0.01787017, 0.90047476],\n",
       "       [0.63566195, 0.53557167],\n",
       "       [0.37278027, 0.32610433],\n",
       "       [0.9159058 , 0.26427949],\n",
       "       [0.16695353, 0.78613301],\n",
       "       [0.2846912 , 0.09208273],\n",
       "       [0.41358772, 0.98248765],\n",
       "       [0.47908368, 0.4477553 ],\n",
       "       [0.85894709, 0.88924459],\n",
       "       [0.15077819, 0.96441628]])"
      ]
     },
     "execution_count": 3,
     "metadata": {},
     "output_type": "execute_result"
    }
   ],
   "source": [
    "import matplotlib.pyplot as plt\n",
    "\n",
    "# Generate random 2D with 100 points\n",
    "data = np.random.rand(100,2)\n",
    "data"
   ]
  },
  {
   "cell_type": "code",
   "execution_count": 13,
   "id": "4cc77552",
   "metadata": {},
   "outputs": [
    {
     "data": {
      "image/png": "[encoded data removed]",
      "text/plain": [
       "<Figure size 1200x600 with 1 Axes>"
      ]
     },
     "metadata": {},
     "output_type": "display_data"
    }
   ],
   "source": [
    "plt.figure(figsize=(12,6))\n",
    "plt.subplot(1,2,1)\n",
    "plt.scatter(data[:,0], data[:,1], label='Original Data')\n",
    "plt.xlabel(\"X-axis\")\n",
    "plt.ylabel('Y-axis')\n",
    "plt.title(\"Before mean centering\")\n",
    "plt.axhline(0, color='black')\n",
    "plt.axvline(0, color='black')\n",
    "plt.legend()\n",
    "plt.show()"
   ]
  },
  {
   "cell_type": "code",
   "execution_count": 7,
   "id": "c50801e2",
   "metadata": {},
   "outputs": [
    {
     "name": "stdout",
     "output_type": "stream",
     "text": [
      "[0.46976716 0.54196993]\n",
      "[[ 0.11886071 -0.32099492]\n",
      " [ 0.33786319  0.00258281]\n",
      " [-0.38867094  0.14386905]\n",
      " [ 0.09047692 -0.5008537 ]\n",
      " [ 0.0774679  -0.01564775]\n",
      " [-0.43196533  0.03277633]\n",
      " [ 0.48754085  0.03666186]\n",
      " [ 0.12525078 -0.44335004]\n",
      " [-0.31352467 -0.1371978 ]\n",
      " [ 0.41948515 -0.09787036]\n",
      " [ 0.42331688  0.44406391]\n",
      " [ 0.07661961  0.45733847]\n",
      " [-0.405493    0.02567543]\n",
      " [ 0.31258729  0.36271956]\n",
      " [-0.37343699 -0.4931059 ]\n",
      " [ 0.24409116 -0.24437364]\n",
      " [ 0.40892294  0.43764319]\n",
      " [ 0.14102861  0.10561843]\n",
      " [-0.3707549   0.39996773]\n",
      " [ 0.3528891  -0.33649103]\n",
      " [ 0.48955933  0.25159748]\n",
      " [ 0.35790677  0.38784091]\n",
      " [-0.01969759  0.28668046]\n",
      " [-0.27517076 -0.5193783 ]\n",
      " [ 0.24848709  0.43385101]\n",
      " [-0.43699928  0.21420551]\n",
      " [-0.0224782   0.18911785]\n",
      " [ 0.21616238 -0.29017029]\n",
      " [-0.39729231  0.07279739]\n",
      " [-0.11423179  0.42438065]\n",
      " [ 0.45691788 -0.17544921]\n",
      " [ 0.26357477 -0.08807704]\n",
      " [-0.29815056  0.24346003]\n",
      " [ 0.06179578 -0.14436605]\n",
      " [ 0.33281643  0.14775991]\n",
      " [ 0.07128105  0.11499953]\n",
      " [ 0.05474303  0.4276008 ]\n",
      " [-0.164026    0.22605447]\n",
      " [-0.43750193  0.30156339]\n",
      " [ 0.51174278  0.13317442]\n",
      " [-0.28809008 -0.04776318]\n",
      " [-0.28278098 -0.34541424]\n",
      " [ 0.18797476 -0.07637763]\n",
      " [-0.29662408 -0.46774283]\n",
      " [ 0.00196217 -0.21994127]\n",
      " [-0.31494201 -0.02955785]\n",
      " [-0.17438642 -0.02530881]\n",
      " [-0.1383986   0.009852  ]\n",
      " [-0.07422227  0.36515044]\n",
      " [-0.41831928 -0.50772213]\n",
      " [-0.24332532  0.43784154]\n",
      " [ 0.33037152  0.02372258]\n",
      " [-0.2080961  -0.03158378]\n",
      " [-0.29461805  0.11582999]\n",
      " [ 0.09016073 -0.33574207]\n",
      " [-0.15531211  0.32876364]\n",
      " [-0.04368669 -0.03026905]\n",
      " [-0.46864087 -0.06840236]\n",
      " [ 0.2740393   0.18335121]\n",
      " [ 0.37550941 -0.43788779]\n",
      " [ 0.38590642 -0.10166417]\n",
      " [-0.387199   -0.4297698 ]\n",
      " [-0.14800191 -0.47695   ]\n",
      " [-0.30350854 -0.47420951]\n",
      " [ 0.45950759  0.14791363]\n",
      " [-0.14179246  0.27181731]\n",
      " [ 0.12659901 -0.11058733]\n",
      " [-0.02274867 -0.11870438]\n",
      " [ 0.39867909 -0.02325039]\n",
      " [-0.14253147 -0.50672366]\n",
      " [-0.08752102  0.23874692]\n",
      " [ 0.3515333   0.3788358 ]\n",
      " [-0.13458289  0.38863665]\n",
      " [ 0.04148731  0.00758811]\n",
      " [ 0.13558947 -0.13737075]\n",
      " [-0.21454323  0.25452396]\n",
      " [-0.45200664  0.07078646]\n",
      " [-0.14518659  0.28817377]\n",
      " [-0.29538892 -0.2092389 ]\n",
      " [ 0.2992312  -0.05870433]\n",
      " [ 0.51383941 -0.33730044]\n",
      " [-0.02392066  0.24086937]\n",
      " [-0.39763332  0.2536138 ]\n",
      " [-0.14979707 -0.47901073]\n",
      " [ 0.18723956 -0.43806357]\n",
      " [-0.0746463  -0.39815631]\n",
      " [-0.01812859  0.08898679]\n",
      " [ 0.50915996 -0.23544829]\n",
      " [ 0.48416026  0.30071081]\n",
      " [-0.44295244 -0.50237429]\n",
      " [-0.45189699  0.35850482]\n",
      " [ 0.16589479 -0.00639826]\n",
      " [-0.09698689 -0.21586561]\n",
      " [ 0.44613864 -0.27769044]\n",
      " [-0.30281363  0.24416308]\n",
      " [-0.18507595 -0.4498872 ]\n",
      " [-0.05617944  0.44051772]\n",
      " [ 0.00931652 -0.09421463]\n",
      " [ 0.38917993  0.34727465]\n",
      " [-0.31898897  0.42244634]]\n"
     ]
    }
   ],
   "source": [
    "# Calcuate the mean of the data along each dimension\n",
    "\n",
    "data_mean = np.mean(data, axis=0)\n",
    "print(data_mean)\n",
    "\n",
    "# Perform mean centring\n",
    "centered_data = data - data_mean\n",
    "print(centered_data)"
   ]
  },
  {
   "cell_type": "code",
   "execution_count": 20,
   "id": "4a3cd349",
   "metadata": {},
   "outputs": [
    {
     "data": {
      "image/png": "[encoded data removed]",
      "text/plain": [
       "<Figure size 800x500 with 1 Axes>"
      ]
     },
     "metadata": {},
     "output_type": "display_data"
    },
    {
     "data": {
      "image/png": "[encoded data removed]",
      "text/plain": [
       "<Figure size 640x480 with 1 Axes>"
      ]
     },
     "metadata": {},
     "output_type": "display_data"
    }
   ],
   "source": [
    "plt.figure(figsize=(8,5))\n",
    "plt.subplot(1,2,1)\n",
    "plt.scatter(data[:,0], data[:,1], label='Original Data')\n",
    "plt.xlabel(\"X-axis\")\n",
    "plt.ylabel('Y-axis')\n",
    "plt.title(\"Before mean centering\")\n",
    "plt.axhline(0, color='black')\n",
    "plt.axvline(0, color='black')\n",
    "plt.legend()\n",
    "plt.show()\n",
    "\n",
    "#plt.figure(figsize=(12,6))\n",
    "plt.subplot(1,2,2)\n",
    "plt.scatter(centered_data[:,0], centered_data[:,1], label='Mean-Centered Data', color='red')\n",
    "plt.xlabel(\"X-axis\")\n",
    "plt.ylabel('Y-axis')\n",
    "plt.title(\"After mean centering\")\n",
    "plt.axhline(0, color='black')\n",
    "plt.axvline(0, color='black')\n",
    "plt.legend()\n",
    "plt.show()"
   ]
  },
  {
   "cell_type": "code",
   "execution_count": 21,
   "id": "548f0c24",
   "metadata": {},
   "outputs": [
    {
     "name": "stdout",
     "output_type": "stream",
     "text": [
      "32\n",
      "32\n"
     ]
    }
   ],
   "source": [
    "# Commutative \n",
    "\n",
    "# Define two vectors\n",
    "A = np.array([1,2,3])\n",
    "B = np.array([4,5,6])\n",
    "\n",
    "print(np.dot(A,B))\n",
    "print(A@B)"
   ]
  },
  {
   "cell_type": "code",
   "execution_count": 22,
   "id": "9837dbb8",
   "metadata": {},
   "outputs": [
    {
     "name": "stdout",
     "output_type": "stream",
     "text": [
      "32\n",
      "32\n",
      "The dot product is Commutative\n"
     ]
    }
   ],
   "source": [
    "A = np.array([1,2,3])\n",
    "B = np.array([4,5,6])\n",
    "\n",
    "# Calculate dot product using numpy.dot() function\n",
    "\n",
    "dot_prod_AB = np.dot(A, B)\n",
    "dot_prod_BA = np.dot(B, A)\n",
    "\n",
    "print(dot_prod_AB)\n",
    "print(dot_prod_BA)\n",
    "\n",
    "# Check commutative property : A * B = B * A\n",
    "\n",
    "if dot_prod_AB == dot_prod_BA:\n",
    "    print(\"The dot product is Commutative\")\n",
    "else:\n",
    "    print(\"The dot product is not Commutative\")\n"
   ]
  },
  {
   "cell_type": "code",
   "execution_count": 23,
   "id": "1ce0146a",
   "metadata": {},
   "outputs": [
    {
     "name": "stdout",
     "output_type": "stream",
     "text": [
      "82\n",
      "82\n",
      "The dot product is Distributive\n"
     ]
    }
   ],
   "source": [
    "A = np.array([1,2,3])\n",
    "B = np.array([4,5,6])\n",
    "C = np.array([7,8,9])\n",
    "\n",
    "# check distributive property : A*(B+C) = A*B + A*C\n",
    "\n",
    "dot_prod_A_BC = np.dot(A, B+C)\n",
    "dot_prod_AB_plus_AC = np.dot(A,B) + np.dot(A, C)\n",
    "\n",
    "print(dot_prod_A_BC)\n",
    "print(dot_prod_AB_plus_AC)\n",
    "\n",
    "if dot_prod_A_BC == dot_prod_AB_plus_AC:\n",
    "    print(\"The dot product is Distributive\")\n",
    "else:\n",
    "    print(\"The dot product is not Distributive\")"
   ]
  },
  {
   "cell_type": "markdown",
   "id": "466e4167",
   "metadata": {},
   "source": [
    "# Cosine-Similarity"
   ]
  },
  {
   "cell_type": "code",
   "execution_count": 25,
   "id": "084485f5",
   "metadata": {},
   "outputs": [
    {
     "name": "stdout",
     "output_type": "stream",
     "text": [
      "Cosine Similarity between A and B : -0.9827076298239908\n",
      "Cosine Similarity between A and C : 0.9258200997725513\n",
      "Cosine Similarity between B and C : -0.9797958971132711\n"
     ]
    }
   ],
   "source": [
    "# Define three points\n",
    "A = np.array([1,2,3])\n",
    "B = np.array([-6,-8,-10])\n",
    "C = np.array([5,5,5])\n",
    "\n",
    "# Calculate the cosine similarity\n",
    "cosine_similarity_1 = np.dot(A,B) / (np.linalg.norm(A) * np.linalg.norm(B))\n",
    "\n",
    "print(\"Cosine Similarity between A and B :\", cosine_similarity_1)\n",
    "\n",
    "cosine_similarity_2 = np.dot(A,C) / (np.linalg.norm(A) * np.linalg.norm(C))\n",
    "\n",
    "print(\"Cosine Similarity between A and C :\", cosine_similarity_2)\n",
    "\n",
    "cosine_similarity_3 = np.dot(B,C) / (np.linalg.norm(B) * np.linalg.norm(C))\n",
    "\n",
    "print(\"Cosine Similarity between B and C :\", cosine_similarity_3)"
   ]
  },
  {
   "cell_type": "code",
   "execution_count": null,
   "id": "43ff39b8",
   "metadata": {},
   "outputs": [],
   "source": []
  },
  {
   "cell_type": "code",
   "execution_count": null,
   "id": "0fcd8be9",
   "metadata": {},
   "outputs": [],
   "source": []
  },
  {
   "cell_type": "code",
   "execution_count": null,
   "id": "7e921f54",
   "metadata": {},
   "outputs": [],
   "source": []
  }
 ],
 "metadata": {
  "kernelspec": {
   "display_name": "Python 3 (ipykernel)",
   "language": "python",
   "name": "python3"
  },
  "language_info": {
   "codemirror_mode": {
    "name": "ipython",
    "version": 3
   },
   "file_extension": ".py",
   "mimetype": "text/x-python",
   "name": "python",
   "nbconvert_exporter": "python",
   "pygments_lexer": "ipython3",
   "version": "3.9.13"
  }
 },
 "nbformat": 4,
 "nbformat_minor": 5
}

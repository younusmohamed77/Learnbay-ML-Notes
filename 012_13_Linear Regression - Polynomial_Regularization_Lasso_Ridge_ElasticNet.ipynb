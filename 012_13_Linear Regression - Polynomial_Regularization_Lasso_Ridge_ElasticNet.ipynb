{
 "cells": [
  {
   "cell_type": "markdown",
   "id": "3988daa6",
   "metadata": {},
   "source": [
    "# Part 1 - Polynomial Regression"
   ]
  },
  {
   "cell_type": "code",
   "execution_count": 41,
   "id": "8fd0d167",
   "metadata": {},
   "outputs": [],
   "source": [
    "import numpy as np\n",
    "import pandas as pd\n",
    "import matplotlib.pyplot as plt\n",
    "import seaborn as sns\n",
    "\n",
    "from sklearn.model_selection import train_test_split\n",
    "from sklearn.linear_model import LinearRegression \n",
    "from sklearn.preprocessing import PolynomialFeatures, StandardScaler\n",
    "\n",
    "from sklearn.metrics import r2_score\n",
    "from sklearn.pipeline import Pipeline"
   ]
  },
  {
   "cell_type": "code",
   "execution_count": 7,
   "id": "8472d31e",
   "metadata": {},
   "outputs": [],
   "source": [
    "x = 6 * np.random.rand(200, 1) -3\n",
    "y = 0.8 * x**2 + 0.9 * x + 2 + np.random.randn(200,1)"
   ]
  },
  {
   "cell_type": "code",
   "execution_count": 8,
   "id": "53c8e090",
   "metadata": {},
   "outputs": [
    {
     "data": {
      "text/plain": [
       "array([[ 6.84175806],\n",
       "       [ 4.56121976],\n",
       "       [ 4.99029813],\n",
       "       [ 0.66310045],\n",
       "       [ 7.7612807 ],\n",
       "       [ 1.36046117],\n",
       "       [ 3.31550601],\n",
       "       [ 8.98628822],\n",
       "       [ 1.18239046],\n",
       "       [ 1.10572138],\n",
       "       [ 5.56745456],\n",
       "       [ 5.6243245 ],\n",
       "       [ 6.55875599],\n",
       "       [ 6.22463972],\n",
       "       [ 3.78400397],\n",
       "       [10.9286742 ],\n",
       "       [ 1.72814933],\n",
       "       [ 6.69545986],\n",
       "       [10.72697375],\n",
       "       [ 2.86094166],\n",
       "       [ 3.31800273],\n",
       "       [ 4.37437531],\n",
       "       [10.6096529 ],\n",
       "       [ 8.62663678],\n",
       "       [ 5.2538363 ],\n",
       "       [ 1.04275609],\n",
       "       [ 5.51688057],\n",
       "       [ 2.72131466],\n",
       "       [ 2.69691263],\n",
       "       [ 5.55615279],\n",
       "       [ 2.88939699],\n",
       "       [ 1.39766188],\n",
       "       [ 3.36585703],\n",
       "       [ 5.38283099],\n",
       "       [ 2.80122402],\n",
       "       [ 3.1357435 ],\n",
       "       [ 4.53931341],\n",
       "       [ 0.52222826],\n",
       "       [ 5.03128397],\n",
       "       [ 3.69661883],\n",
       "       [ 3.27643098],\n",
       "       [ 4.89494859],\n",
       "       [ 8.17932158],\n",
       "       [ 2.02399716],\n",
       "       [ 7.69334693],\n",
       "       [ 1.76253918],\n",
       "       [ 1.09639721],\n",
       "       [ 3.25363742],\n",
       "       [ 4.54356775],\n",
       "       [ 2.84161304],\n",
       "       [ 2.00360519],\n",
       "       [ 3.62560395],\n",
       "       [ 1.43037165],\n",
       "       [ 2.39091372],\n",
       "       [ 4.92318   ],\n",
       "       [ 2.69751816],\n",
       "       [ 2.38248243],\n",
       "       [ 3.41149624],\n",
       "       [ 4.80204607],\n",
       "       [ 1.26417445],\n",
       "       [ 6.02827258],\n",
       "       [ 5.8800268 ],\n",
       "       [ 2.52293597],\n",
       "       [ 3.12781322],\n",
       "       [ 5.72127705],\n",
       "       [ 2.56993902],\n",
       "       [ 5.01503715],\n",
       "       [ 3.28986777],\n",
       "       [ 9.53251086],\n",
       "       [ 3.21100489],\n",
       "       [ 5.02368644],\n",
       "       [ 9.82552053],\n",
       "       [ 2.50208088],\n",
       "       [ 6.65674894],\n",
       "       [ 7.39958407],\n",
       "       [ 7.14950116],\n",
       "       [ 4.20275443],\n",
       "       [ 3.68226947],\n",
       "       [ 1.43966854],\n",
       "       [ 4.90265977],\n",
       "       [ 3.42977721],\n",
       "       [ 4.60161697],\n",
       "       [ 0.86707058],\n",
       "       [ 9.01348979],\n",
       "       [ 3.90422161],\n",
       "       [ 0.92959357],\n",
       "       [ 0.93114062],\n",
       "       [ 1.30839012],\n",
       "       [ 6.22710535],\n",
       "       [ 2.33780562],\n",
       "       [ 7.56760561],\n",
       "       [ 2.34709473],\n",
       "       [ 9.20992845],\n",
       "       [10.62172646],\n",
       "       [ 5.22564022],\n",
       "       [ 6.68029097],\n",
       "       [ 1.9069239 ],\n",
       "       [ 4.73137823],\n",
       "       [ 6.70278442],\n",
       "       [ 3.1216717 ],\n",
       "       [ 3.68997376],\n",
       "       [ 6.16582407],\n",
       "       [ 7.00682272],\n",
       "       [ 4.80884577],\n",
       "       [ 1.73001385],\n",
       "       [ 2.90033812],\n",
       "       [ 4.35144529],\n",
       "       [ 0.64954932],\n",
       "       [ 0.94991123],\n",
       "       [10.25619677],\n",
       "       [ 1.17767736],\n",
       "       [ 3.98733195],\n",
       "       [ 9.17898412],\n",
       "       [ 4.29383937],\n",
       "       [ 2.83588039],\n",
       "       [ 8.34083413],\n",
       "       [ 7.50114363],\n",
       "       [ 4.52390939],\n",
       "       [ 3.38980219],\n",
       "       [ 2.47905569],\n",
       "       [ 8.64722878],\n",
       "       [ 8.95958168],\n",
       "       [ 4.89475047],\n",
       "       [ 2.62977788],\n",
       "       [ 0.87869112],\n",
       "       [ 2.87731712],\n",
       "       [ 8.05393676],\n",
       "       [ 0.90859935],\n",
       "       [ 3.72537339],\n",
       "       [ 3.89010402],\n",
       "       [ 9.66856954],\n",
       "       [ 4.17496575],\n",
       "       [ 8.65465489],\n",
       "       [ 3.61686308],\n",
       "       [ 6.04149048],\n",
       "       [ 4.72091913],\n",
       "       [ 7.67251506],\n",
       "       [ 3.51577651],\n",
       "       [11.46096342],\n",
       "       [ 5.60753314],\n",
       "       [ 4.55702371],\n",
       "       [ 1.32222021],\n",
       "       [11.76077051],\n",
       "       [ 8.35043782],\n",
       "       [ 6.50040257],\n",
       "       [ 1.35659874],\n",
       "       [ 2.56246557],\n",
       "       [ 2.64418794],\n",
       "       [ 1.92179614],\n",
       "       [ 3.1720175 ],\n",
       "       [ 3.30556728],\n",
       "       [ 0.87582284],\n",
       "       [ 3.6384845 ],\n",
       "       [ 4.46600416],\n",
       "       [ 2.97235975],\n",
       "       [ 5.10825227],\n",
       "       [ 6.6188933 ],\n",
       "       [ 2.05538829],\n",
       "       [ 5.71282841],\n",
       "       [ 7.23476776],\n",
       "       [ 2.26001859],\n",
       "       [ 3.34619146],\n",
       "       [ 3.63810915],\n",
       "       [ 4.83372153],\n",
       "       [ 1.75525658],\n",
       "       [ 7.70460385],\n",
       "       [ 5.66696562],\n",
       "       [ 3.05136873],\n",
       "       [ 7.33644603],\n",
       "       [ 2.24156156],\n",
       "       [ 4.79798037],\n",
       "       [ 0.82548543],\n",
       "       [ 3.21207874],\n",
       "       [ 2.83258528],\n",
       "       [ 9.93472667],\n",
       "       [ 6.95335403],\n",
       "       [ 5.12664964],\n",
       "       [ 2.02479083],\n",
       "       [ 5.58647333],\n",
       "       [ 2.98108053],\n",
       "       [12.31806219],\n",
       "       [ 7.87436572],\n",
       "       [ 5.68502454],\n",
       "       [ 0.49662161],\n",
       "       [ 7.72220211],\n",
       "       [ 0.79565059],\n",
       "       [11.48825638],\n",
       "       [ 1.275388  ],\n",
       "       [ 6.74208663],\n",
       "       [ 4.74990775],\n",
       "       [ 3.36972334],\n",
       "       [ 8.38250514],\n",
       "       [ 2.00453685],\n",
       "       [ 6.03325998],\n",
       "       [ 6.1349112 ],\n",
       "       [ 6.0250782 ],\n",
       "       [ 1.75421244],\n",
       "       [ 2.84240819],\n",
       "       [ 6.16095815],\n",
       "       [ 0.74956372]])"
      ]
     },
     "execution_count": 8,
     "metadata": {},
     "output_type": "execute_result"
    }
   ],
   "source": [
    "y"
   ]
  },
  {
   "cell_type": "code",
   "execution_count": 12,
   "id": "ad6dd24e",
   "metadata": {},
   "outputs": [
    {
     "data": {
      "image/png": "[encoded data removed]",
      "text/plain": [
       "<Figure size 640x480 with 1 Axes>"
      ]
     },
     "metadata": {},
     "output_type": "display_data"
    }
   ],
   "source": [
    "plt.scatter(x=x, y=y)\n",
    "plt.xlabel(\"x variable\")\n",
    "plt.ylabel(\"y variable\")\n",
    "plt.show()"
   ]
  },
  {
   "cell_type": "code",
   "execution_count": 13,
   "id": "f3224f99",
   "metadata": {},
   "outputs": [],
   "source": [
    "# split the data into training and test\n",
    "x_train, x_test, y_train, y_test = train_test_split(x, y, test_size=0.2, random_state=1)"
   ]
  },
  {
   "cell_type": "code",
   "execution_count": 14,
   "id": "5f358775",
   "metadata": {},
   "outputs": [
    {
     "data": {
      "text/plain": [
       "LinearRegression()"
      ]
     },
     "execution_count": 14,
     "metadata": {},
     "output_type": "execute_result"
    }
   ],
   "source": [
    "# apply linear regression model\n",
    "linear = LinearRegression()\n",
    "linear.fit(x_train, y_train)"
   ]
  },
  {
   "cell_type": "code",
   "execution_count": 15,
   "id": "b8fb48be",
   "metadata": {},
   "outputs": [],
   "source": [
    "# predict \n",
    "y_pred_train = linear.predict(x_train)\n",
    "y_pred_test = linear.predict(x_test)"
   ]
  },
  {
   "cell_type": "code",
   "execution_count": 16,
   "id": "c8974c93",
   "metadata": {},
   "outputs": [
    {
     "name": "stdout",
     "output_type": "stream",
     "text": [
      "0.2907994483115466\n",
      "\n",
      "0.34456405715761496\n"
     ]
    }
   ],
   "source": [
    "# evaluate the model \n",
    "\n",
    "print(r2_score(y_train, y_pred_train))\n",
    "print()\n",
    "print(r2_score(y_test, y_pred_test))"
   ]
  },
  {
   "cell_type": "code",
   "execution_count": 20,
   "id": "64125d33",
   "metadata": {},
   "outputs": [
    {
     "data": {
      "image/png": "[encoded data removed]",
      "text/plain": [
       "<Figure size 640x480 with 1 Axes>"
      ]
     },
     "metadata": {},
     "output_type": "display_data"
    }
   ],
   "source": [
    "plt.scatter(x=x, y=y)\n",
    "plt.plot(x_train, y_pred_train, color='r')\n",
    "#plt.plot(x_test, y_pred_test, color='g')\n",
    "plt.xlabel(\"x\")\n",
    "plt.ylabel(\"y\")\n",
    "plt.show()"
   ]
  },
  {
   "cell_type": "markdown",
   "id": "454640fc",
   "metadata": {},
   "source": [
    "### Applying Polynomial Linear Regression method with degree =2"
   ]
  },
  {
   "cell_type": "code",
   "execution_count": 21,
   "id": "9ea96ab0",
   "metadata": {},
   "outputs": [],
   "source": [
    "poly = PolynomialFeatures(degree = 2, include_bias = True)\n",
    "x_train_trans = poly.fit_transform(x_train)\n",
    "x_test_trans = poly.fit_transform(x_test)"
   ]
  },
  {
   "cell_type": "code",
   "execution_count": 22,
   "id": "02323bd1",
   "metadata": {},
   "outputs": [
    {
     "data": {
      "text/plain": [
       "LinearRegression()"
      ]
     },
     "execution_count": 22,
     "metadata": {},
     "output_type": "execute_result"
    }
   ],
   "source": [
    "# build linear regression\n",
    "\n",
    "linear_1 = LinearRegression()\n",
    "linear_1.fit(x_train_trans, y_train)"
   ]
  },
  {
   "cell_type": "code",
   "execution_count": 23,
   "id": "94deefd0",
   "metadata": {},
   "outputs": [],
   "source": [
    "# predict\n",
    "y_pred_train_ply = linear_1.predict(x_train_trans)\n",
    "y_pred_test_ply = linear_1.predict(x_test_trans)"
   ]
  },
  {
   "cell_type": "code",
   "execution_count": 24,
   "id": "bba4e0a3",
   "metadata": {},
   "outputs": [
    {
     "name": "stdout",
     "output_type": "stream",
     "text": [
      "0.8695087575994415\n",
      "\n",
      "0.8891545829656445\n"
     ]
    }
   ],
   "source": [
    "# Evaluate the model\n",
    "print(r2_score(y_train, y_pred_train_ply))\n",
    "print()\n",
    "print(r2_score(y_test, y_pred_test_ply))"
   ]
  },
  {
   "cell_type": "code",
   "execution_count": 25,
   "id": "cb25725b",
   "metadata": {},
   "outputs": [
    {
     "data": {
      "image/png": "[encoded data removed]",
      "text/plain": [
       "<Figure size 640x480 with 1 Axes>"
      ]
     },
     "metadata": {},
     "output_type": "display_data"
    }
   ],
   "source": [
    "plt.scatter(x=x, y=y)\n",
    "plt.plot(x_train_trans, y_pred_train_ply, color='r')\n",
    "#plt.plot(x_test, y_pred_test, color='g')\n",
    "plt.xlabel(\"x\")\n",
    "plt.ylabel(\"y\")\n",
    "plt.show()"
   ]
  },
  {
   "cell_type": "code",
   "execution_count": null,
   "id": "4f5e2495",
   "metadata": {},
   "outputs": [],
   "source": []
  },
  {
   "cell_type": "markdown",
   "id": "6241ddf9",
   "metadata": {},
   "source": [
    "# Case 2 : Regularization Approach "
   ]
  },
  {
   "cell_type": "code",
   "execution_count": 27,
   "id": "471bb6ca",
   "metadata": {},
   "outputs": [
    {
     "data": {
      "text/html": [
       "<div>\n",
       "<style scoped>\n",
       "    .dataframe tbody tr th:only-of-type {\n",
       "        vertical-align: middle;\n",
       "    }\n",
       "\n",
       "    .dataframe tbody tr th {\n",
       "        vertical-align: top;\n",
       "    }\n",
       "\n",
       "    .dataframe thead th {\n",
       "        text-align: right;\n",
       "    }\n",
       "</style>\n",
       "<table border=\"1\" class=\"dataframe\">\n",
       "  <thead>\n",
       "    <tr style=\"text-align: right;\">\n",
       "      <th></th>\n",
       "      <th>mpg</th>\n",
       "      <th>cylinders</th>\n",
       "      <th>displacement</th>\n",
       "      <th>horsepower</th>\n",
       "      <th>weight</th>\n",
       "      <th>acceleration</th>\n",
       "      <th>model_year</th>\n",
       "      <th>origin</th>\n",
       "      <th>name</th>\n",
       "    </tr>\n",
       "  </thead>\n",
       "  <tbody>\n",
       "    <tr>\n",
       "      <th>0</th>\n",
       "      <td>18.0</td>\n",
       "      <td>8</td>\n",
       "      <td>307.0</td>\n",
       "      <td>130</td>\n",
       "      <td>3504</td>\n",
       "      <td>12.0</td>\n",
       "      <td>70</td>\n",
       "      <td>1</td>\n",
       "      <td>chevrolet chevelle malibu</td>\n",
       "    </tr>\n",
       "    <tr>\n",
       "      <th>1</th>\n",
       "      <td>15.0</td>\n",
       "      <td>8</td>\n",
       "      <td>350.0</td>\n",
       "      <td>165</td>\n",
       "      <td>3693</td>\n",
       "      <td>11.5</td>\n",
       "      <td>70</td>\n",
       "      <td>1</td>\n",
       "      <td>buick skylark 320</td>\n",
       "    </tr>\n",
       "    <tr>\n",
       "      <th>2</th>\n",
       "      <td>18.0</td>\n",
       "      <td>8</td>\n",
       "      <td>318.0</td>\n",
       "      <td>150</td>\n",
       "      <td>3436</td>\n",
       "      <td>11.0</td>\n",
       "      <td>70</td>\n",
       "      <td>1</td>\n",
       "      <td>plymouth satellite</td>\n",
       "    </tr>\n",
       "    <tr>\n",
       "      <th>3</th>\n",
       "      <td>16.0</td>\n",
       "      <td>8</td>\n",
       "      <td>304.0</td>\n",
       "      <td>150</td>\n",
       "      <td>3433</td>\n",
       "      <td>12.0</td>\n",
       "      <td>70</td>\n",
       "      <td>1</td>\n",
       "      <td>amc rebel sst</td>\n",
       "    </tr>\n",
       "    <tr>\n",
       "      <th>4</th>\n",
       "      <td>17.0</td>\n",
       "      <td>8</td>\n",
       "      <td>302.0</td>\n",
       "      <td>140</td>\n",
       "      <td>3449</td>\n",
       "      <td>10.5</td>\n",
       "      <td>70</td>\n",
       "      <td>1</td>\n",
       "      <td>ford torino</td>\n",
       "    </tr>\n",
       "  </tbody>\n",
       "</table>\n",
       "</div>"
      ],
      "text/plain": [
       "    mpg  cylinders  displacement horsepower  weight  acceleration  model_year  \\\n",
       "0  18.0          8         307.0        130    3504          12.0          70   \n",
       "1  15.0          8         350.0        165    3693          11.5          70   \n",
       "2  18.0          8         318.0        150    3436          11.0          70   \n",
       "3  16.0          8         304.0        150    3433          12.0          70   \n",
       "4  17.0          8         302.0        140    3449          10.5          70   \n",
       "\n",
       "   origin                       name  \n",
       "0       1  chevrolet chevelle malibu  \n",
       "1       1          buick skylark 320  \n",
       "2       1         plymouth satellite  \n",
       "3       1              amc rebel sst  \n",
       "4       1                ford torino  "
      ]
     },
     "execution_count": 27,
     "metadata": {},
     "output_type": "execute_result"
    }
   ],
   "source": [
    "mpg_df = pd.read_csv(\"mpg.csv\")\n",
    "mpg_df.head()"
   ]
  },
  {
   "cell_type": "code",
   "execution_count": 28,
   "id": "1de761b0",
   "metadata": {},
   "outputs": [
    {
     "data": {
      "text/plain": [
       "1    249\n",
       "3     79\n",
       "2     70\n",
       "Name: origin, dtype: int64"
      ]
     },
     "execution_count": 28,
     "metadata": {},
     "output_type": "execute_result"
    }
   ],
   "source": [
    "mpg_df['origin'].value_counts()"
   ]
  },
  {
   "cell_type": "code",
   "execution_count": 29,
   "id": "4e72cdc5",
   "metadata": {},
   "outputs": [
    {
     "data": {
      "text/html": [
       "<div>\n",
       "<style scoped>\n",
       "    .dataframe tbody tr th:only-of-type {\n",
       "        vertical-align: middle;\n",
       "    }\n",
       "\n",
       "    .dataframe tbody tr th {\n",
       "        vertical-align: top;\n",
       "    }\n",
       "\n",
       "    .dataframe thead th {\n",
       "        text-align: right;\n",
       "    }\n",
       "</style>\n",
       "<table border=\"1\" class=\"dataframe\">\n",
       "  <thead>\n",
       "    <tr style=\"text-align: right;\">\n",
       "      <th></th>\n",
       "      <th>mpg</th>\n",
       "      <th>cylinders</th>\n",
       "      <th>displacement</th>\n",
       "      <th>horsepower</th>\n",
       "      <th>weight</th>\n",
       "      <th>acceleration</th>\n",
       "      <th>model_year</th>\n",
       "      <th>origin</th>\n",
       "      <th>name</th>\n",
       "    </tr>\n",
       "  </thead>\n",
       "  <tbody>\n",
       "    <tr>\n",
       "      <th>0</th>\n",
       "      <td>18.0</td>\n",
       "      <td>8</td>\n",
       "      <td>307.0</td>\n",
       "      <td>130</td>\n",
       "      <td>3504</td>\n",
       "      <td>12.0</td>\n",
       "      <td>70</td>\n",
       "      <td>america</td>\n",
       "      <td>chevrolet chevelle malibu</td>\n",
       "    </tr>\n",
       "    <tr>\n",
       "      <th>1</th>\n",
       "      <td>15.0</td>\n",
       "      <td>8</td>\n",
       "      <td>350.0</td>\n",
       "      <td>165</td>\n",
       "      <td>3693</td>\n",
       "      <td>11.5</td>\n",
       "      <td>70</td>\n",
       "      <td>america</td>\n",
       "      <td>buick skylark 320</td>\n",
       "    </tr>\n",
       "    <tr>\n",
       "      <th>2</th>\n",
       "      <td>18.0</td>\n",
       "      <td>8</td>\n",
       "      <td>318.0</td>\n",
       "      <td>150</td>\n",
       "      <td>3436</td>\n",
       "      <td>11.0</td>\n",
       "      <td>70</td>\n",
       "      <td>america</td>\n",
       "      <td>plymouth satellite</td>\n",
       "    </tr>\n",
       "    <tr>\n",
       "      <th>3</th>\n",
       "      <td>16.0</td>\n",
       "      <td>8</td>\n",
       "      <td>304.0</td>\n",
       "      <td>150</td>\n",
       "      <td>3433</td>\n",
       "      <td>12.0</td>\n",
       "      <td>70</td>\n",
       "      <td>america</td>\n",
       "      <td>amc rebel sst</td>\n",
       "    </tr>\n",
       "    <tr>\n",
       "      <th>4</th>\n",
       "      <td>17.0</td>\n",
       "      <td>8</td>\n",
       "      <td>302.0</td>\n",
       "      <td>140</td>\n",
       "      <td>3449</td>\n",
       "      <td>10.5</td>\n",
       "      <td>70</td>\n",
       "      <td>america</td>\n",
       "      <td>ford torino</td>\n",
       "    </tr>\n",
       "  </tbody>\n",
       "</table>\n",
       "</div>"
      ],
      "text/plain": [
       "    mpg  cylinders  displacement horsepower  weight  acceleration  model_year  \\\n",
       "0  18.0          8         307.0        130    3504          12.0          70   \n",
       "1  15.0          8         350.0        165    3693          11.5          70   \n",
       "2  18.0          8         318.0        150    3436          11.0          70   \n",
       "3  16.0          8         304.0        150    3433          12.0          70   \n",
       "4  17.0          8         302.0        140    3449          10.5          70   \n",
       "\n",
       "    origin                       name  \n",
       "0  america  chevrolet chevelle malibu  \n",
       "1  america          buick skylark 320  \n",
       "2  america         plymouth satellite  \n",
       "3  america              amc rebel sst  \n",
       "4  america                ford torino  "
      ]
     },
     "execution_count": 29,
     "metadata": {},
     "output_type": "execute_result"
    }
   ],
   "source": [
    "mpg_df['origin'] = mpg_df['origin'].replace({1:'america', 2:'europe', 3:'asia'})\n",
    "mpg_df.head()"
   ]
  },
  {
   "cell_type": "code",
   "execution_count": 30,
   "id": "b6caa669",
   "metadata": {},
   "outputs": [],
   "source": [
    "mpg_df = pd.get_dummies(mpg_df, columns=['origin'])"
   ]
  },
  {
   "cell_type": "code",
   "execution_count": 31,
   "id": "7faa67ad",
   "metadata": {},
   "outputs": [
    {
     "data": {
      "text/html": [
       "<div>\n",
       "<style scoped>\n",
       "    .dataframe tbody tr th:only-of-type {\n",
       "        vertical-align: middle;\n",
       "    }\n",
       "\n",
       "    .dataframe tbody tr th {\n",
       "        vertical-align: top;\n",
       "    }\n",
       "\n",
       "    .dataframe thead th {\n",
       "        text-align: right;\n",
       "    }\n",
       "</style>\n",
       "<table border=\"1\" class=\"dataframe\">\n",
       "  <thead>\n",
       "    <tr style=\"text-align: right;\">\n",
       "      <th></th>\n",
       "      <th>mpg</th>\n",
       "      <th>cylinders</th>\n",
       "      <th>displacement</th>\n",
       "      <th>horsepower</th>\n",
       "      <th>weight</th>\n",
       "      <th>acceleration</th>\n",
       "      <th>model_year</th>\n",
       "      <th>name</th>\n",
       "      <th>origin_america</th>\n",
       "      <th>origin_asia</th>\n",
       "      <th>origin_europe</th>\n",
       "    </tr>\n",
       "  </thead>\n",
       "  <tbody>\n",
       "    <tr>\n",
       "      <th>0</th>\n",
       "      <td>18.0</td>\n",
       "      <td>8</td>\n",
       "      <td>307.0</td>\n",
       "      <td>130</td>\n",
       "      <td>3504</td>\n",
       "      <td>12.0</td>\n",
       "      <td>70</td>\n",
       "      <td>chevrolet chevelle malibu</td>\n",
       "      <td>1</td>\n",
       "      <td>0</td>\n",
       "      <td>0</td>\n",
       "    </tr>\n",
       "    <tr>\n",
       "      <th>1</th>\n",
       "      <td>15.0</td>\n",
       "      <td>8</td>\n",
       "      <td>350.0</td>\n",
       "      <td>165</td>\n",
       "      <td>3693</td>\n",
       "      <td>11.5</td>\n",
       "      <td>70</td>\n",
       "      <td>buick skylark 320</td>\n",
       "      <td>1</td>\n",
       "      <td>0</td>\n",
       "      <td>0</td>\n",
       "    </tr>\n",
       "    <tr>\n",
       "      <th>2</th>\n",
       "      <td>18.0</td>\n",
       "      <td>8</td>\n",
       "      <td>318.0</td>\n",
       "      <td>150</td>\n",
       "      <td>3436</td>\n",
       "      <td>11.0</td>\n",
       "      <td>70</td>\n",
       "      <td>plymouth satellite</td>\n",
       "      <td>1</td>\n",
       "      <td>0</td>\n",
       "      <td>0</td>\n",
       "    </tr>\n",
       "    <tr>\n",
       "      <th>3</th>\n",
       "      <td>16.0</td>\n",
       "      <td>8</td>\n",
       "      <td>304.0</td>\n",
       "      <td>150</td>\n",
       "      <td>3433</td>\n",
       "      <td>12.0</td>\n",
       "      <td>70</td>\n",
       "      <td>amc rebel sst</td>\n",
       "      <td>1</td>\n",
       "      <td>0</td>\n",
       "      <td>0</td>\n",
       "    </tr>\n",
       "    <tr>\n",
       "      <th>4</th>\n",
       "      <td>17.0</td>\n",
       "      <td>8</td>\n",
       "      <td>302.0</td>\n",
       "      <td>140</td>\n",
       "      <td>3449</td>\n",
       "      <td>10.5</td>\n",
       "      <td>70</td>\n",
       "      <td>ford torino</td>\n",
       "      <td>1</td>\n",
       "      <td>0</td>\n",
       "      <td>0</td>\n",
       "    </tr>\n",
       "    <tr>\n",
       "      <th>...</th>\n",
       "      <td>...</td>\n",
       "      <td>...</td>\n",
       "      <td>...</td>\n",
       "      <td>...</td>\n",
       "      <td>...</td>\n",
       "      <td>...</td>\n",
       "      <td>...</td>\n",
       "      <td>...</td>\n",
       "      <td>...</td>\n",
       "      <td>...</td>\n",
       "      <td>...</td>\n",
       "    </tr>\n",
       "    <tr>\n",
       "      <th>393</th>\n",
       "      <td>27.0</td>\n",
       "      <td>4</td>\n",
       "      <td>140.0</td>\n",
       "      <td>86</td>\n",
       "      <td>2790</td>\n",
       "      <td>15.6</td>\n",
       "      <td>82</td>\n",
       "      <td>ford mustang gl</td>\n",
       "      <td>1</td>\n",
       "      <td>0</td>\n",
       "      <td>0</td>\n",
       "    </tr>\n",
       "    <tr>\n",
       "      <th>394</th>\n",
       "      <td>44.0</td>\n",
       "      <td>4</td>\n",
       "      <td>97.0</td>\n",
       "      <td>52</td>\n",
       "      <td>2130</td>\n",
       "      <td>24.6</td>\n",
       "      <td>82</td>\n",
       "      <td>vw pickup</td>\n",
       "      <td>0</td>\n",
       "      <td>0</td>\n",
       "      <td>1</td>\n",
       "    </tr>\n",
       "    <tr>\n",
       "      <th>395</th>\n",
       "      <td>32.0</td>\n",
       "      <td>4</td>\n",
       "      <td>135.0</td>\n",
       "      <td>84</td>\n",
       "      <td>2295</td>\n",
       "      <td>11.6</td>\n",
       "      <td>82</td>\n",
       "      <td>dodge rampage</td>\n",
       "      <td>1</td>\n",
       "      <td>0</td>\n",
       "      <td>0</td>\n",
       "    </tr>\n",
       "    <tr>\n",
       "      <th>396</th>\n",
       "      <td>28.0</td>\n",
       "      <td>4</td>\n",
       "      <td>120.0</td>\n",
       "      <td>79</td>\n",
       "      <td>2625</td>\n",
       "      <td>18.6</td>\n",
       "      <td>82</td>\n",
       "      <td>ford ranger</td>\n",
       "      <td>1</td>\n",
       "      <td>0</td>\n",
       "      <td>0</td>\n",
       "    </tr>\n",
       "    <tr>\n",
       "      <th>397</th>\n",
       "      <td>31.0</td>\n",
       "      <td>4</td>\n",
       "      <td>119.0</td>\n",
       "      <td>82</td>\n",
       "      <td>2720</td>\n",
       "      <td>19.4</td>\n",
       "      <td>82</td>\n",
       "      <td>chevy s-10</td>\n",
       "      <td>1</td>\n",
       "      <td>0</td>\n",
       "      <td>0</td>\n",
       "    </tr>\n",
       "  </tbody>\n",
       "</table>\n",
       "<p>398 rows × 11 columns</p>\n",
       "</div>"
      ],
      "text/plain": [
       "      mpg  cylinders  displacement horsepower  weight  acceleration  \\\n",
       "0    18.0          8         307.0        130    3504          12.0   \n",
       "1    15.0          8         350.0        165    3693          11.5   \n",
       "2    18.0          8         318.0        150    3436          11.0   \n",
       "3    16.0          8         304.0        150    3433          12.0   \n",
       "4    17.0          8         302.0        140    3449          10.5   \n",
       "..    ...        ...           ...        ...     ...           ...   \n",
       "393  27.0          4         140.0         86    2790          15.6   \n",
       "394  44.0          4          97.0         52    2130          24.6   \n",
       "395  32.0          4         135.0         84    2295          11.6   \n",
       "396  28.0          4         120.0         79    2625          18.6   \n",
       "397  31.0          4         119.0         82    2720          19.4   \n",
       "\n",
       "     model_year                       name  origin_america  origin_asia  \\\n",
       "0            70  chevrolet chevelle malibu               1            0   \n",
       "1            70          buick skylark 320               1            0   \n",
       "2            70         plymouth satellite               1            0   \n",
       "3            70              amc rebel sst               1            0   \n",
       "4            70                ford torino               1            0   \n",
       "..          ...                        ...             ...          ...   \n",
       "393          82            ford mustang gl               1            0   \n",
       "394          82                  vw pickup               0            0   \n",
       "395          82              dodge rampage               1            0   \n",
       "396          82                ford ranger               1            0   \n",
       "397          82                 chevy s-10               1            0   \n",
       "\n",
       "     origin_europe  \n",
       "0                0  \n",
       "1                0  \n",
       "2                0  \n",
       "3                0  \n",
       "4                0  \n",
       "..             ...  \n",
       "393              0  \n",
       "394              1  \n",
       "395              0  \n",
       "396              0  \n",
       "397              0  \n",
       "\n",
       "[398 rows x 11 columns]"
      ]
     },
     "execution_count": 31,
     "metadata": {},
     "output_type": "execute_result"
    }
   ],
   "source": [
    "mpg_df"
   ]
  },
  {
   "cell_type": "code",
   "execution_count": 32,
   "id": "dca43615",
   "metadata": {},
   "outputs": [
    {
     "data": {
      "text/plain": [
       "305"
      ]
     },
     "execution_count": 32,
     "metadata": {},
     "output_type": "execute_result"
    }
   ],
   "source": [
    "mpg_df['name'].nunique()"
   ]
  },
  {
   "cell_type": "code",
   "execution_count": 33,
   "id": "b507a99e",
   "metadata": {},
   "outputs": [
    {
     "data": {
      "text/plain": [
       "ford pinto             6\n",
       "toyota corolla         5\n",
       "amc matador            5\n",
       "ford maverick          5\n",
       "chevrolet chevette     4\n",
       "                      ..\n",
       "chevrolet monza 2+2    1\n",
       "ford mustang ii        1\n",
       "pontiac astro          1\n",
       "amc pacer              1\n",
       "chevy s-10             1\n",
       "Name: name, Length: 305, dtype: int64"
      ]
     },
     "execution_count": 33,
     "metadata": {},
     "output_type": "execute_result"
    }
   ],
   "source": [
    "mpg_df['name'].value_counts()"
   ]
  },
  {
   "cell_type": "code",
   "execution_count": 34,
   "id": "d271959e",
   "metadata": {},
   "outputs": [],
   "source": [
    "mpg_df = mpg_df.drop(['name','origin_america'], axis=1)"
   ]
  },
  {
   "cell_type": "code",
   "execution_count": 35,
   "id": "a6ecc433",
   "metadata": {},
   "outputs": [
    {
     "data": {
      "text/html": [
       "<div>\n",
       "<style scoped>\n",
       "    .dataframe tbody tr th:only-of-type {\n",
       "        vertical-align: middle;\n",
       "    }\n",
       "\n",
       "    .dataframe tbody tr th {\n",
       "        vertical-align: top;\n",
       "    }\n",
       "\n",
       "    .dataframe thead th {\n",
       "        text-align: right;\n",
       "    }\n",
       "</style>\n",
       "<table border=\"1\" class=\"dataframe\">\n",
       "  <thead>\n",
       "    <tr style=\"text-align: right;\">\n",
       "      <th></th>\n",
       "      <th>mpg</th>\n",
       "      <th>cylinders</th>\n",
       "      <th>displacement</th>\n",
       "      <th>horsepower</th>\n",
       "      <th>weight</th>\n",
       "      <th>acceleration</th>\n",
       "      <th>model_year</th>\n",
       "      <th>origin_asia</th>\n",
       "      <th>origin_europe</th>\n",
       "    </tr>\n",
       "  </thead>\n",
       "  <tbody>\n",
       "    <tr>\n",
       "      <th>0</th>\n",
       "      <td>18.0</td>\n",
       "      <td>8</td>\n",
       "      <td>307.0</td>\n",
       "      <td>130</td>\n",
       "      <td>3504</td>\n",
       "      <td>12.0</td>\n",
       "      <td>70</td>\n",
       "      <td>0</td>\n",
       "      <td>0</td>\n",
       "    </tr>\n",
       "    <tr>\n",
       "      <th>1</th>\n",
       "      <td>15.0</td>\n",
       "      <td>8</td>\n",
       "      <td>350.0</td>\n",
       "      <td>165</td>\n",
       "      <td>3693</td>\n",
       "      <td>11.5</td>\n",
       "      <td>70</td>\n",
       "      <td>0</td>\n",
       "      <td>0</td>\n",
       "    </tr>\n",
       "    <tr>\n",
       "      <th>2</th>\n",
       "      <td>18.0</td>\n",
       "      <td>8</td>\n",
       "      <td>318.0</td>\n",
       "      <td>150</td>\n",
       "      <td>3436</td>\n",
       "      <td>11.0</td>\n",
       "      <td>70</td>\n",
       "      <td>0</td>\n",
       "      <td>0</td>\n",
       "    </tr>\n",
       "    <tr>\n",
       "      <th>3</th>\n",
       "      <td>16.0</td>\n",
       "      <td>8</td>\n",
       "      <td>304.0</td>\n",
       "      <td>150</td>\n",
       "      <td>3433</td>\n",
       "      <td>12.0</td>\n",
       "      <td>70</td>\n",
       "      <td>0</td>\n",
       "      <td>0</td>\n",
       "    </tr>\n",
       "    <tr>\n",
       "      <th>4</th>\n",
       "      <td>17.0</td>\n",
       "      <td>8</td>\n",
       "      <td>302.0</td>\n",
       "      <td>140</td>\n",
       "      <td>3449</td>\n",
       "      <td>10.5</td>\n",
       "      <td>70</td>\n",
       "      <td>0</td>\n",
       "      <td>0</td>\n",
       "    </tr>\n",
       "  </tbody>\n",
       "</table>\n",
       "</div>"
      ],
      "text/plain": [
       "    mpg  cylinders  displacement horsepower  weight  acceleration  model_year  \\\n",
       "0  18.0          8         307.0        130    3504          12.0          70   \n",
       "1  15.0          8         350.0        165    3693          11.5          70   \n",
       "2  18.0          8         318.0        150    3436          11.0          70   \n",
       "3  16.0          8         304.0        150    3433          12.0          70   \n",
       "4  17.0          8         302.0        140    3449          10.5          70   \n",
       "\n",
       "   origin_asia  origin_europe  \n",
       "0            0              0  \n",
       "1            0              0  \n",
       "2            0              0  \n",
       "3            0              0  \n",
       "4            0              0  "
      ]
     },
     "execution_count": 35,
     "metadata": {},
     "output_type": "execute_result"
    }
   ],
   "source": [
    "mpg_df.head()"
   ]
  },
  {
   "cell_type": "code",
   "execution_count": 36,
   "id": "2beb6cd0",
   "metadata": {},
   "outputs": [
    {
     "data": {
      "text/plain": [
       "mpg              0\n",
       "cylinders        0\n",
       "displacement     0\n",
       "horsepower       0\n",
       "weight           0\n",
       "acceleration     0\n",
       "model_year       0\n",
       "origin_asia      0\n",
       "origin_europe    0\n",
       "dtype: int64"
      ]
     },
     "execution_count": 36,
     "metadata": {},
     "output_type": "execute_result"
    }
   ],
   "source": [
    "mpg_df.isnull().sum()"
   ]
  },
  {
   "cell_type": "code",
   "execution_count": 51,
   "id": "6002d635",
   "metadata": {},
   "outputs": [
    {
     "name": "stdout",
     "output_type": "stream",
     "text": [
      "*********************************************************** mpg ******************************************************************\n",
      "\n",
      "{9.0, 10.0, 11.0, 12.0, 13.0, 14.0, 15.0, 16.0, 17.0, 18.0, 19.0, 20.0, 21.0, 22.0, 23.0, 24.0, 25.0, 26.5, 27.5, 26.0, 27.0, 28.0, 29.0, 30.0, 31.0, 32.0, 33.0, 29.5, 35.0, 31.5, 36.0, 33.5, 36.1, 39.4, 43.1, 35.7, 37.3, 41.5, 38.1, 46.6, 40.8, 44.3, 43.4, 44.6, 44.0, 14.5, 15.5, 16.5, 16.9, 17.5, 17.6, 18.5, 18.6, 18.1, 19.9, 19.4, 19.1, 20.5, 20.6, 21.5, 21.1, 21.6, 22.5, 22.4, 23.9, 23.6, 23.5, 24.5, 25.4, 25.1, 25.5, 26.4, 26.6, 27.4, 27.9, 28.4, 28.1, 29.9, 30.5, 30.9, 31.9, 31.6, 32.8, 32.1, 32.2, 32.7, 32.4, 33.8, 32.3, 33.7, 32.9, 34.1, 34.2, 34.5, 34.3, 34.7, 35.1, 34.4, 34.0, 36.4, 37.2, 37.0, 37.7, 38.0, 39.1, 39.0, 40.9, 16.2, 17.7, 18.2, 19.2, 19.8, 20.2, 20.8, 20.3, 22.3, 23.2, 23.8, 23.7, 24.3, 24.2, 25.8, 26.8, 27.2, 28.8, 29.8, 30.7, 31.8, 31.3}\n",
      "\n",
      "*********************************************************** cylinders ******************************************************************\n",
      "\n",
      "{3, 4, 5, 6, 8}\n",
      "\n",
      "*********************************************************** displacement ******************************************************************\n",
      "\n",
      "{68.0, 70.0, 71.0, 72.0, 76.0, 78.0, 79.0, 80.0, 81.0, 83.0, 85.0, 86.0, 88.0, 89.0, 90.0, 91.0, 96.0, 97.0, 98.0, 97.5, 100.0, 101.0, 104.0, 105.0, 107.0, 108.0, 110.0, 111.0, 112.0, 113.0, 114.0, 115.0, 116.0, 119.0, 120.0, 121.0, 122.0, 130.0, 131.0, 134.0, 135.0, 140.0, 141.0, 144.0, 145.0, 146.0, 151.0, 155.0, 156.0, 163.0, 168.0, 171.0, 173.0, 181.0, 183.0, 198.0, 199.0, 200.0, 225.0, 231.0, 232.0, 250.0, 258.0, 260.0, 262.0, 267.0, 302.0, 304.0, 305.0, 307.0, 318.0, 340.0, 350.0, 351.0, 360.0, 383.0, 390.0, 400.0, 429.0, 440.0, 454.0, 455.0}\n",
      "\n",
      "*********************************************************** horsepower ******************************************************************\n",
      "\n",
      "{46.0, 48.0, 49.0, 52.0, 53.0, 54.0, 58.0, 60.0, 61.0, 62.0, 63.0, 64.0, 65.0, 66.0, 67.0, 68.0, 69.0, 70.0, 71.0, 72.0, 74.0, 75.0, 76.0, 77.0, 78.0, 79.0, 80.0, 81.0, 82.0, 83.0, 84.0, 85.0, 86.0, 87.0, 88.0, 89.0, 90.0, 91.0, 92.0, 93.5, 94.0, 95.0, 93.0, 97.0, 96.0, 98.0, 100.0, 102.0, 103.0, 105.0, 107.0, 108.0, 110.0, 112.0, 113.0, 115.0, 116.0, 120.0, 122.0, 125.0, 129.0, 130.0, 132.0, 133.0, 135.0, 137.0, 138.0, 139.0, 140.0, 142.0, 145.0, 148.0, 149.0, 150.0, 152.0, 153.0, 155.0, 158.0, 160.0, 165.0, 167.0, 170.0, 175.0, 180.0, 190.0, 193.0, 198.0, 200.0, 208.0, 210.0, 215.0, 220.0, 225.0, 230.0}\n",
      "\n",
      "*********************************************************** weight ******************************************************************\n",
      "\n",
      "{4096, 4098, 2051, 4100, 2050, 2065, 2070, 2074, 2075, 4129, 2085, 4135, 4140, 4141, 2100, 4154, 2108, 2110, 4165, 2120, 2123, 2124, 2125, 2126, 2130, 2135, 4190, 2144, 2145, 2150, 2155, 2158, 2160, 4209, 2164, 4215, 2171, 4220, 2188, 2189, 4237, 2190, 2200, 2202, 2205, 4257, 2210, 2215, 2219, 2220, 2223, 2226, 4274, 2228, 4278, 2230, 2234, 2245, 4294, 2246, 4295, 2254, 2255, 4312, 2264, 2265, 4325, 2278, 2279, 4335, 2288, 2290, 4341, 2295, 2300, 4354, 2310, 4360, 4363, 2320, 4376, 2330, 4380, 4382, 2335, 4385, 2350, 2370, 2372, 4422, 2375, 4425, 2379, 2380, 2385, 2391, 4440, 2395, 2401, 2405, 2408, 4456, 4457, 4464, 2420, 2430, 2434, 4498, 4499, 2451, 4502, 2464, 2472, 2489, 2490, 2500, 2506, 2511, 2515, 2525, 2542, 2545, 2556, 2560, 2565, 4615, 2572, 2575, 2582, 4633, 2585, 2587, 4638, 2592, 2595, 2600, 2605, 4654, 4657, 2615, 4668, 2620, 2625, 2634, 2635, 2639, 2640, 2648, 4699, 2660, 2665, 2670, 2671, 2672, 2678, 4732, 4735, 2694, 4746, 2700, 2702, 2711, 2720, 2725, 2735, 2740, 2745, 2755, 2774, 2789, 2790, 2795, 2800, 2807, 2815, 2830, 2833, 2835, 2855, 4906, 2865, 2868, 2870, 2875, 2890, 2900, 2901, 4951, 4952, 2904, 2905, 4955, 2910, 2914, 2930, 2933, 2945, 4997, 2950, 2957, 2962, 2965, 2979, 2984, 2990, 3003, 3012, 3015, 3021, 3035, 3039, 3060, 3070, 3085, 3086, 5140, 3102, 3121, 3139, 3140, 3150, 3155, 3158, 3160, 3169, 3190, 3193, 3205, 3210, 3211, 3221, 3230, 3233, 3245, 3250, 3264, 3265, 3270, 3278, 3282, 3288, 3302, 3329, 3336, 3353, 3360, 3365, 3380, 3381, 3399, 3410, 3415, 3420, 3425, 3430, 3432, 3433, 3436, 3439, 3445, 3449, 3459, 3465, 3504, 3520, 3525, 3530, 3535, 3563, 3570, 3574, 3605, 3609, 3613, 3620, 3630, 3632, 3645, 3651, 1613, 3664, 3672, 3693, 1649, 3725, 3730, 3735, 3755, 3761, 3777, 3781, 3785, 1755, 1760, 3820, 1773, 3821, 3830, 3840, 1795, 1800, 3850, 3870, 1825, 3880, 1834, 1835, 1836, 3892, 1845, 3897, 1850, 3900, 3907, 1867, 1875, 3940, 3955, 3962, 1915, 1925, 1937, 3988, 1940, 1945, 1950, 1955, 1963, 1965, 1968, 1970, 1975, 1980, 1985, 1990, 4042, 1995, 2000, 2003, 4054, 4055, 4060, 2019, 2020, 2025, 4077, 4080, 4082, 2035, 2045, 2046}\n",
      "\n",
      "*********************************************************** acceleration ******************************************************************\n",
      "\n",
      "{8.5, 9.0, 10.0, 11.0, 10.5, 13.5, 11.5, 12.0, 8.0, 9.5, 15.0, 15.5, 16.0, 14.5, 20.5, 17.5, 18.5, 19.0, 19.5, 18.0, 23.5, 21.0, 22.2, 22.1, 24.8, 24.6, 12.5, 13.0, 14.0, 16.5, 16.9, 16.4, 16.6, 16.1, 17.0, 17.6, 17.4, 17.9, 17.1, 18.6, 18.1, 19.4, 19.9, 19.6, 20.1, 20.4, 21.9, 21.5, 11.4, 12.9, 13.9, 13.4, 14.4, 14.9, 15.4, 15.9, 11.2, 11.3, 12.8, 12.2, 13.2, 13.7, 13.8, 14.3, 14.2, 14.8, 14.7, 15.2, 15.3, 15.7, 15.8, 16.2, 16.7, 16.8, 17.3, 17.7, 17.8, 17.2, 18.2, 18.7, 18.8, 18.3, 19.2, 20.7, 21.7, 21.8, 23.7, 11.1, 11.6, 12.1, 12.6, 13.6, 14.1, 15.1, 15.6}\n",
      "\n",
      "*********************************************************** model_year ******************************************************************\n",
      "\n",
      "{70, 71, 72, 73, 74, 75, 76, 77, 78, 79, 80, 81, 82}\n",
      "\n",
      "*********************************************************** origin_asia ******************************************************************\n",
      "\n",
      "{0, 1}\n",
      "\n",
      "*********************************************************** origin_europe ******************************************************************\n",
      "\n",
      "{0, 1}\n",
      "\n"
     ]
    }
   ],
   "source": [
    "# To find the unique value in each variable\n",
    "for i in mpg_df.columns:\n",
    "    print(\"***********************************************************\", i,\n",
    "         \"******************************************************************\")\n",
    "    print()\n",
    "    print(set(mpg_df[i].tolist()))\n",
    "    print()"
   ]
  },
  {
   "cell_type": "code",
   "execution_count": 44,
   "id": "04deea50",
   "metadata": {},
   "outputs": [],
   "source": [
    "mpg_df['horsepower'] = pd.to_numeric(mpg_df['horsepower'])"
   ]
  },
  {
   "cell_type": "code",
   "execution_count": 45,
   "id": "127781e5",
   "metadata": {},
   "outputs": [
    {
     "name": "stdout",
     "output_type": "stream",
     "text": [
      "<class 'pandas.core.frame.DataFrame'>\n",
      "RangeIndex: 398 entries, 0 to 397\n",
      "Data columns (total 9 columns):\n",
      " #   Column         Non-Null Count  Dtype  \n",
      "---  ------         --------------  -----  \n",
      " 0   mpg            398 non-null    float64\n",
      " 1   cylinders      398 non-null    int64  \n",
      " 2   displacement   398 non-null    float64\n",
      " 3   horsepower     392 non-null    float64\n",
      " 4   weight         398 non-null    int64  \n",
      " 5   acceleration   398 non-null    float64\n",
      " 6   model_year     398 non-null    int64  \n",
      " 7   origin_asia    398 non-null    uint8  \n",
      " 8   origin_europe  398 non-null    uint8  \n",
      "dtypes: float64(4), int64(3), uint8(2)\n",
      "memory usage: 22.7 KB\n"
     ]
    }
   ],
   "source": [
    "mpg_df.info()"
   ]
  },
  {
   "cell_type": "code",
   "execution_count": 38,
   "id": "9be1c5a3",
   "metadata": {},
   "outputs": [],
   "source": [
    "mpg_df = mpg_df.replace('?', np.nan)"
   ]
  },
  {
   "cell_type": "code",
   "execution_count": 50,
   "id": "f0bcf36b",
   "metadata": {},
   "outputs": [
    {
     "data": {
      "text/plain": [
       "mpg              0\n",
       "cylinders        0\n",
       "displacement     0\n",
       "horsepower       0\n",
       "weight           0\n",
       "acceleration     0\n",
       "model_year       0\n",
       "origin_asia      0\n",
       "origin_europe    0\n",
       "dtype: int64"
      ]
     },
     "execution_count": 50,
     "metadata": {},
     "output_type": "execute_result"
    }
   ],
   "source": [
    "mpg_df.isnull().sum()"
   ]
  },
  {
   "cell_type": "code",
   "execution_count": 48,
   "id": "90590991",
   "metadata": {},
   "outputs": [
    {
     "data": {
      "text/plain": [
       "<AxesSubplot:ylabel='horsepower'>"
      ]
     },
     "execution_count": 48,
     "metadata": {},
     "output_type": "execute_result"
    },
    {
     "data": {
      "image/png": "[encoded data removed]",
      "text/plain": [
       "<Figure size 640x480 with 1 Axes>"
      ]
     },
     "metadata": {},
     "output_type": "display_data"
    }
   ],
   "source": [
    "sns.boxplot(y=mpg_df['horsepower'], data=mpg_df)"
   ]
  },
  {
   "cell_type": "code",
   "execution_count": 49,
   "id": "ed69f25b",
   "metadata": {},
   "outputs": [],
   "source": [
    "mpg_df['horsepower'] = mpg_df['horsepower'].fillna(mpg_df['horsepower'].median())"
   ]
  },
  {
   "cell_type": "code",
   "execution_count": 52,
   "id": "759ab493",
   "metadata": {},
   "outputs": [],
   "source": [
    "# split the data into x and y\n",
    "x = mpg_df.drop('mpg', axis=1)\n",
    "y = mpg_df[['mpg']]"
   ]
  },
  {
   "cell_type": "code",
   "execution_count": 53,
   "id": "9f4fe079",
   "metadata": {},
   "outputs": [
    {
     "data": {
      "text/html": [
       "<div>\n",
       "<style scoped>\n",
       "    .dataframe tbody tr th:only-of-type {\n",
       "        vertical-align: middle;\n",
       "    }\n",
       "\n",
       "    .dataframe tbody tr th {\n",
       "        vertical-align: top;\n",
       "    }\n",
       "\n",
       "    .dataframe thead th {\n",
       "        text-align: right;\n",
       "    }\n",
       "</style>\n",
       "<table border=\"1\" class=\"dataframe\">\n",
       "  <thead>\n",
       "    <tr style=\"text-align: right;\">\n",
       "      <th></th>\n",
       "      <th>cylinders</th>\n",
       "      <th>displacement</th>\n",
       "      <th>horsepower</th>\n",
       "      <th>weight</th>\n",
       "      <th>acceleration</th>\n",
       "      <th>model_year</th>\n",
       "      <th>origin_asia</th>\n",
       "      <th>origin_europe</th>\n",
       "    </tr>\n",
       "  </thead>\n",
       "  <tbody>\n",
       "    <tr>\n",
       "      <th>0</th>\n",
       "      <td>8</td>\n",
       "      <td>307.0</td>\n",
       "      <td>130.0</td>\n",
       "      <td>3504</td>\n",
       "      <td>12.0</td>\n",
       "      <td>70</td>\n",
       "      <td>0</td>\n",
       "      <td>0</td>\n",
       "    </tr>\n",
       "    <tr>\n",
       "      <th>1</th>\n",
       "      <td>8</td>\n",
       "      <td>350.0</td>\n",
       "      <td>165.0</td>\n",
       "      <td>3693</td>\n",
       "      <td>11.5</td>\n",
       "      <td>70</td>\n",
       "      <td>0</td>\n",
       "      <td>0</td>\n",
       "    </tr>\n",
       "    <tr>\n",
       "      <th>2</th>\n",
       "      <td>8</td>\n",
       "      <td>318.0</td>\n",
       "      <td>150.0</td>\n",
       "      <td>3436</td>\n",
       "      <td>11.0</td>\n",
       "      <td>70</td>\n",
       "      <td>0</td>\n",
       "      <td>0</td>\n",
       "    </tr>\n",
       "    <tr>\n",
       "      <th>3</th>\n",
       "      <td>8</td>\n",
       "      <td>304.0</td>\n",
       "      <td>150.0</td>\n",
       "      <td>3433</td>\n",
       "      <td>12.0</td>\n",
       "      <td>70</td>\n",
       "      <td>0</td>\n",
       "      <td>0</td>\n",
       "    </tr>\n",
       "    <tr>\n",
       "      <th>4</th>\n",
       "      <td>8</td>\n",
       "      <td>302.0</td>\n",
       "      <td>140.0</td>\n",
       "      <td>3449</td>\n",
       "      <td>10.5</td>\n",
       "      <td>70</td>\n",
       "      <td>0</td>\n",
       "      <td>0</td>\n",
       "    </tr>\n",
       "  </tbody>\n",
       "</table>\n",
       "</div>"
      ],
      "text/plain": [
       "   cylinders  displacement  horsepower  weight  acceleration  model_year  \\\n",
       "0          8         307.0       130.0    3504          12.0          70   \n",
       "1          8         350.0       165.0    3693          11.5          70   \n",
       "2          8         318.0       150.0    3436          11.0          70   \n",
       "3          8         304.0       150.0    3433          12.0          70   \n",
       "4          8         302.0       140.0    3449          10.5          70   \n",
       "\n",
       "   origin_asia  origin_europe  \n",
       "0            0              0  \n",
       "1            0              0  \n",
       "2            0              0  \n",
       "3            0              0  \n",
       "4            0              0  "
      ]
     },
     "execution_count": 53,
     "metadata": {},
     "output_type": "execute_result"
    }
   ],
   "source": [
    "x.head()"
   ]
  },
  {
   "cell_type": "code",
   "execution_count": 54,
   "id": "c2101edb",
   "metadata": {},
   "outputs": [
    {
     "data": {
      "text/html": [
       "<div>\n",
       "<style scoped>\n",
       "    .dataframe tbody tr th:only-of-type {\n",
       "        vertical-align: middle;\n",
       "    }\n",
       "\n",
       "    .dataframe tbody tr th {\n",
       "        vertical-align: top;\n",
       "    }\n",
       "\n",
       "    .dataframe thead th {\n",
       "        text-align: right;\n",
       "    }\n",
       "</style>\n",
       "<table border=\"1\" class=\"dataframe\">\n",
       "  <thead>\n",
       "    <tr style=\"text-align: right;\">\n",
       "      <th></th>\n",
       "      <th>mpg</th>\n",
       "    </tr>\n",
       "  </thead>\n",
       "  <tbody>\n",
       "    <tr>\n",
       "      <th>0</th>\n",
       "      <td>18.0</td>\n",
       "    </tr>\n",
       "    <tr>\n",
       "      <th>1</th>\n",
       "      <td>15.0</td>\n",
       "    </tr>\n",
       "    <tr>\n",
       "      <th>2</th>\n",
       "      <td>18.0</td>\n",
       "    </tr>\n",
       "    <tr>\n",
       "      <th>3</th>\n",
       "      <td>16.0</td>\n",
       "    </tr>\n",
       "    <tr>\n",
       "      <th>4</th>\n",
       "      <td>17.0</td>\n",
       "    </tr>\n",
       "  </tbody>\n",
       "</table>\n",
       "</div>"
      ],
      "text/plain": [
       "    mpg\n",
       "0  18.0\n",
       "1  15.0\n",
       "2  18.0\n",
       "3  16.0\n",
       "4  17.0"
      ]
     },
     "execution_count": 54,
     "metadata": {},
     "output_type": "execute_result"
    }
   ],
   "source": [
    "y.head()"
   ]
  },
  {
   "cell_type": "code",
   "execution_count": 56,
   "id": "20578e76",
   "metadata": {},
   "outputs": [
    {
     "data": {
      "text/html": [
       "<div>\n",
       "<style scoped>\n",
       "    .dataframe tbody tr th:only-of-type {\n",
       "        vertical-align: middle;\n",
       "    }\n",
       "\n",
       "    .dataframe tbody tr th {\n",
       "        vertical-align: top;\n",
       "    }\n",
       "\n",
       "    .dataframe thead th {\n",
       "        text-align: right;\n",
       "    }\n",
       "</style>\n",
       "<table border=\"1\" class=\"dataframe\">\n",
       "  <thead>\n",
       "    <tr style=\"text-align: right;\">\n",
       "      <th></th>\n",
       "      <th>cylinders</th>\n",
       "      <th>displacement</th>\n",
       "      <th>horsepower</th>\n",
       "      <th>weight</th>\n",
       "      <th>acceleration</th>\n",
       "      <th>model_year</th>\n",
       "      <th>origin_asia</th>\n",
       "      <th>origin_europe</th>\n",
       "    </tr>\n",
       "  </thead>\n",
       "  <tbody>\n",
       "    <tr>\n",
       "      <th>0</th>\n",
       "      <td>1.498191</td>\n",
       "      <td>1.090604</td>\n",
       "      <td>0.673118</td>\n",
       "      <td>0.630870</td>\n",
       "      <td>-1.295498</td>\n",
       "      <td>-1.627426</td>\n",
       "      <td>-0.497643</td>\n",
       "      <td>-0.461968</td>\n",
       "    </tr>\n",
       "    <tr>\n",
       "      <th>1</th>\n",
       "      <td>1.498191</td>\n",
       "      <td>1.503514</td>\n",
       "      <td>1.589958</td>\n",
       "      <td>0.854333</td>\n",
       "      <td>-1.477038</td>\n",
       "      <td>-1.627426</td>\n",
       "      <td>-0.497643</td>\n",
       "      <td>-0.461968</td>\n",
       "    </tr>\n",
       "    <tr>\n",
       "      <th>2</th>\n",
       "      <td>1.498191</td>\n",
       "      <td>1.196232</td>\n",
       "      <td>1.197027</td>\n",
       "      <td>0.550470</td>\n",
       "      <td>-1.658577</td>\n",
       "      <td>-1.627426</td>\n",
       "      <td>-0.497643</td>\n",
       "      <td>-0.461968</td>\n",
       "    </tr>\n",
       "    <tr>\n",
       "      <th>3</th>\n",
       "      <td>1.498191</td>\n",
       "      <td>1.061796</td>\n",
       "      <td>1.197027</td>\n",
       "      <td>0.546923</td>\n",
       "      <td>-1.295498</td>\n",
       "      <td>-1.627426</td>\n",
       "      <td>-0.497643</td>\n",
       "      <td>-0.461968</td>\n",
       "    </tr>\n",
       "    <tr>\n",
       "      <th>4</th>\n",
       "      <td>1.498191</td>\n",
       "      <td>1.042591</td>\n",
       "      <td>0.935072</td>\n",
       "      <td>0.565841</td>\n",
       "      <td>-1.840117</td>\n",
       "      <td>-1.627426</td>\n",
       "      <td>-0.497643</td>\n",
       "      <td>-0.461968</td>\n",
       "    </tr>\n",
       "  </tbody>\n",
       "</table>\n",
       "</div>"
      ],
      "text/plain": [
       "   cylinders  displacement  horsepower    weight  acceleration  model_year  \\\n",
       "0   1.498191      1.090604    0.673118  0.630870     -1.295498   -1.627426   \n",
       "1   1.498191      1.503514    1.589958  0.854333     -1.477038   -1.627426   \n",
       "2   1.498191      1.196232    1.197027  0.550470     -1.658577   -1.627426   \n",
       "3   1.498191      1.061796    1.197027  0.546923     -1.295498   -1.627426   \n",
       "4   1.498191      1.042591    0.935072  0.565841     -1.840117   -1.627426   \n",
       "\n",
       "   origin_asia  origin_europe  \n",
       "0    -0.497643      -0.461968  \n",
       "1    -0.497643      -0.461968  \n",
       "2    -0.497643      -0.461968  \n",
       "3    -0.497643      -0.461968  \n",
       "4    -0.497643      -0.461968  "
      ]
     },
     "execution_count": 56,
     "metadata": {},
     "output_type": "execute_result"
    }
   ],
   "source": [
    "# Feature scaling required\n",
    "from sklearn.preprocessing import StandardScaler\n",
    "scaler = StandardScaler()\n",
    "x_scaler = scaler.fit_transform(x)\n",
    "x_scaler = pd.DataFrame(x_scaler, columns=x.columns)\n",
    "x_scaler.head()"
   ]
  },
  {
   "cell_type": "code",
   "execution_count": 65,
   "id": "043e5ec3",
   "metadata": {},
   "outputs": [],
   "source": [
    "# split the data into train and test\n",
    "from sklearn.model_selection import train_test_split\n",
    "x_train, x_test, y_train, y_test = train_test_split(x_scaler, y, test_size=0.30, random_state=2)"
   ]
  },
  {
   "cell_type": "code",
   "execution_count": 67,
   "id": "e0a17663",
   "metadata": {},
   "outputs": [
    {
     "name": "stdout",
     "output_type": "stream",
     "text": [
      "(278, 8) (120, 8) (278, 1) (120, 1)\n"
     ]
    }
   ],
   "source": [
    "print(x_train.shape, x_test.shape, y_train.shape, y_test.shape)"
   ]
  },
  {
   "cell_type": "markdown",
   "id": "6fb3b068",
   "metadata": {},
   "source": [
    "# Fit the Linear Regression model "
   ]
  },
  {
   "cell_type": "code",
   "execution_count": 68,
   "id": "4ad73f0f",
   "metadata": {},
   "outputs": [
    {
     "name": "stdout",
     "output_type": "stream",
     "text": [
      "The co-efficient for cylinders is -0.9070337484280201\n",
      "The co-efficient for displacement is 2.809374603725288\n",
      "The co-efficient for horsepower is -0.6310008171483847\n",
      "The co-efficient for weight is -5.869498769577222\n",
      "The co-efficient for acceleration is 0.19953881477287505\n",
      "The co-efficient for model_year is 2.8763341997029985\n",
      "The co-efficient for origin_asia is 1.0699595176109433\n",
      "The co-efficient for origin_europe is 1.4794568431613693\n"
     ]
    }
   ],
   "source": [
    "regression_model = LinearRegression()\n",
    "regression_model.fit(x_train, y_train)\n",
    "\n",
    "for idx, col_name in enumerate(x_train.columns):\n",
    "    print(\"The co-efficient for {} is {}\".format(col_name, regression_model.coef_[0][idx]))"
   ]
  },
  {
   "cell_type": "code",
   "execution_count": 59,
   "id": "b947e1f7",
   "metadata": {},
   "outputs": [
    {
     "data": {
      "text/plain": [
       "array([[-1.12220477,  3.31615598, -0.98300326, -5.94082926,  0.13986473,\n",
       "         2.84632173,  1.04599702,  1.25220917]])"
      ]
     },
     "execution_count": 59,
     "metadata": {},
     "output_type": "execute_result"
    }
   ],
   "source": [
    "regression_model.coef_"
   ]
  },
  {
   "cell_type": "code",
   "execution_count": 60,
   "id": "839a27b6",
   "metadata": {},
   "outputs": [
    {
     "data": {
      "text/plain": [
       "array([23.38114617])"
      ]
     },
     "execution_count": 60,
     "metadata": {},
     "output_type": "execute_result"
    }
   ],
   "source": [
    "regression_model.intercept_"
   ]
  },
  {
   "cell_type": "code",
   "execution_count": null,
   "id": "5e6c513f",
   "metadata": {},
   "outputs": [],
   "source": []
  },
  {
   "cell_type": "markdown",
   "id": "c4ad3939",
   "metadata": {},
   "source": [
    "# Part 1 - Regularization : LASSO Model and note the co-efficient value"
   ]
  },
  {
   "cell_type": "code",
   "execution_count": 76,
   "id": "da26bdf6",
   "metadata": {},
   "outputs": [
    {
     "data": {
      "application/javascript": [
       "\n",
       "        if (window._pyforest_update_imports_cell) { window._pyforest_update_imports_cell('from sklearn.linear_model import Lasso\\nimport seaborn as sns'); }\n",
       "    "
      ],
      "text/plain": [
       "<IPython.core.display.Javascript object>"
      ]
     },
     "metadata": {},
     "output_type": "display_data"
    },
    {
     "name": "stdout",
     "output_type": "stream",
     "text": [
      "Lasso Co-efficient : [-0.          0.         -0.23779705 -4.70482266  0.          2.70335612\n",
      "  0.71644501  1.08215523]\n"
     ]
    }
   ],
   "source": [
    "lasso = Lasso(alpha=0.1)\n",
    "# alpha means lambda value and it's penalty\n",
    "lasso.fit(x_train, y_train)\n",
    "print(\"Lasso Co-efficient :\", lasso.coef_)"
   ]
  },
  {
   "cell_type": "markdown",
   "id": "33adb44a",
   "metadata": {},
   "source": [
    "# Part 2 - Regularization : Ridge Model and note the co-efficient value"
   ]
  },
  {
   "cell_type": "code",
   "execution_count": 77,
   "id": "6e46419b",
   "metadata": {},
   "outputs": [
    {
     "data": {
      "application/javascript": [
       "\n",
       "        if (window._pyforest_update_imports_cell) { window._pyforest_update_imports_cell('from sklearn.linear_model import Lasso\\nfrom sklearn.linear_model import Ridge\\nimport seaborn as sns'); }\n",
       "    "
      ],
      "text/plain": [
       "<IPython.core.display.Javascript object>"
      ]
     },
     "metadata": {},
     "output_type": "display_data"
    },
    {
     "name": "stdout",
     "output_type": "stream",
     "text": [
      "Ridge Co-efficient : [[-0.86968281  2.661581   -0.64376112 -5.76674602  0.18155086  2.86564525\n",
      "   1.06178628  1.46541994]]\n"
     ]
    }
   ],
   "source": [
    "ridge = Ridge(alpha=0.3)\n",
    "ridge.fit(x_train, y_train)\n",
    "print(\"Ridge Co-efficient :\", ridge.coef_)"
   ]
  },
  {
   "cell_type": "code",
   "execution_count": 78,
   "id": "c9e6d433",
   "metadata": {},
   "outputs": [
    {
     "data": {
      "text/plain": [
       "array([[-0.90703375,  2.8093746 , -0.63100082, -5.86949877,  0.19953881,\n",
       "         2.8763342 ,  1.06995952,  1.47945684]])"
      ]
     },
     "execution_count": 78,
     "metadata": {},
     "output_type": "execute_result"
    }
   ],
   "source": [
    "regression_model.coef_"
   ]
  },
  {
   "cell_type": "markdown",
   "id": "1effb7bf",
   "metadata": {},
   "source": [
    "# Compare accuracy"
   ]
  },
  {
   "cell_type": "code",
   "execution_count": 79,
   "id": "c128c582",
   "metadata": {},
   "outputs": [],
   "source": [
    "y_pred_train_lr = regression_model.predict(x_train)\n",
    "y_pred_test_lr = regression_model.predict(x_test)\n",
    "\n",
    "y_pred_train_lasso = lasso.predict(x_train)\n",
    "y_pred_test_lasso = lasso.predict(x_test)\n",
    "\n",
    "y_pred_train_ridge = ridge.predict(x_train)\n",
    "y_pred_test_ridge = ridge.predict(x_test)"
   ]
  },
  {
   "cell_type": "code",
   "execution_count": 80,
   "id": "10654104",
   "metadata": {},
   "outputs": [
    {
     "name": "stdout",
     "output_type": "stream",
     "text": [
      "Linear Trainging : 0.8195425758249515\n",
      "\n",
      "Linear Test : 0.8254870925859882\n",
      "\n",
      "Lasso Trainging : 0.81374664693556\n",
      "\n",
      "Lasso Test : 0.8231957656158253\n",
      "\n",
      "Ridge Trainging : 0.8195237723730078\n",
      "\n",
      "Ridge Test : 0.8256582638340383\n"
     ]
    }
   ],
   "source": [
    "print(\"Linear Trainging :\", r2_score(y_train, y_pred_train_lr))\n",
    "print()\n",
    "print(\"Linear Test :\", r2_score(y_test, y_pred_test_lr))\n",
    "\n",
    "print()\n",
    "\n",
    "print(\"Lasso Trainging :\", r2_score(y_train, y_pred_train_lasso))\n",
    "print()\n",
    "print(\"Lasso Test :\", r2_score(y_test, y_pred_test_lasso))\n",
    "\n",
    "print()\n",
    "\n",
    "print(\"Ridge Trainging :\", r2_score(y_train, y_pred_train_ridge))\n",
    "print()\n",
    "print(\"Ridge Test :\", r2_score(y_test, y_pred_test_ridge))"
   ]
  }
 ],
 "metadata": {
  "kernelspec": {
   "display_name": "Python 3 (ipykernel)",
   "language": "python",
   "name": "python3"
  },
  "language_info": {
   "codemirror_mode": {
    "name": "ipython",
    "version": 3
   },
   "file_extension": ".py",
   "mimetype": "text/x-python",
   "name": "python",
   "nbconvert_exporter": "python",
   "pygments_lexer": "ipython3",
   "version": "3.9.13"
  }
 },
 "nbformat": 4,
 "nbformat_minor": 5
}
